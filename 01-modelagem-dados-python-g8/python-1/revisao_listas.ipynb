{
 "cells": [
  {
   "cell_type": "markdown",
   "id": "3ebc4c23",
   "metadata": {},
   "source": [
    "# 🧠 Revisão: Listas em Python (Ciência de Dados)\n",
    "\n",
    "## ✅ O que são listas?\n",
    "Listas são estruturas que armazenam **múltiplos valores em uma única variável**. Em ciência de dados, usamos muito listas para guardar dados numéricos, textos, ou resultados de operações.\n",
    "\n",
    "```python\n",
    "idades = [23, 45, 34, 56]\n",
    "nomes = [\"Ana\", \"Bruno\", \"Carlos\"]\n",
    "```"
   ]
  },
  {
   "cell_type": "markdown",
   "id": "c6b2a410",
   "metadata": {},
   "source": [
    "## 🛠️ Operações básicas\n",
    "Acessar elementos:"
   ]
  },
  {
   "cell_type": "code",
   "execution_count": null,
   "id": "7de15404",
   "metadata": {},
   "outputs": [],
   "source": [
    "idades[0]   # Primeiro elemento (23)\n",
    "idades[-1]  # Último elemento (56)"
   ]
  },
  {
   "cell_type": "markdown",
   "id": "ae132ec7",
   "metadata": {},
   "source": [
    "Modificar elementos:"
   ]
  },
  {
   "cell_type": "code",
   "execution_count": null,
   "id": "82b12020",
   "metadata": {},
   "outputs": [],
   "source": [
    "idades[1] = 46"
   ]
  },
  {
   "cell_type": "markdown",
   "id": "8671430c",
   "metadata": {},
   "source": [
    "Adicionar elementos:"
   ]
  },
  {
   "cell_type": "code",
   "execution_count": null,
   "id": "3953a650",
   "metadata": {},
   "outputs": [],
   "source": [
    "idades.append(60)"
   ]
  },
  {
   "cell_type": "markdown",
   "id": "afc21c35",
   "metadata": {},
   "source": [
    "Remover elementos:"
   ]
  },
  {
   "cell_type": "code",
   "execution_count": null,
   "id": "bea4a4d7",
   "metadata": {},
   "outputs": [],
   "source": [
    "idades.remove(34)     # Remove o valor 34\n",
    "idades.pop(0)         # Remove o valor no índice 0"
   ]
  },
  {
   "cell_type": "markdown",
   "id": "92431e6d",
   "metadata": {},
   "source": [
    "Tamanho da lista:"
   ]
  },
  {
   "cell_type": "code",
   "execution_count": null,
   "id": "eea1e531",
   "metadata": {},
   "outputs": [],
   "source": [
    "len(idades)"
   ]
  },
  {
   "cell_type": "markdown",
   "id": "f646a060",
   "metadata": {},
   "source": [
    "## 🔁 Percorrer listas (loops)"
   ]
  },
  {
   "cell_type": "code",
   "execution_count": null,
   "id": "a90ebbb5",
   "metadata": {},
   "outputs": [],
   "source": [
    "for idade in idades:\n",
    "    print(idade)"
   ]
  },
  {
   "cell_type": "markdown",
   "id": "497d68da",
   "metadata": {},
   "source": [
    "## 📊 Estatísticas simples\n",
    "Soma, média, valor máximo:"
   ]
  },
  {
   "cell_type": "code",
   "execution_count": null,
   "id": "76bc3520",
   "metadata": {},
   "outputs": [],
   "source": [
    "soma = sum(idades)\n",
    "media = sum(idades) / len(idades)\n",
    "maior = max(idades)"
   ]
  },
  {
   "cell_type": "markdown",
   "id": "e50f654a",
   "metadata": {},
   "source": [
    "## 🧪 Filtros com listas\n",
    "Criar nova lista com condição:"
   ]
  },
  {
   "cell_type": "code",
   "execution_count": null,
   "id": "9290c141",
   "metadata": {},
   "outputs": [],
   "source": [
    "acima_de_30 = [i for i in idades if i > 30]"
   ]
  },
  {
   "cell_type": "markdown",
   "id": "34965770",
   "metadata": {},
   "source": [
    "## 🔁 Listas dentro de dicionários (muito comum em Data Science!)"
   ]
  },
  {
   "cell_type": "code",
   "execution_count": null,
   "id": "ade38b58",
   "metadata": {},
   "outputs": [],
   "source": [
    "dados = {\n",
    "    \"Setor A\": [22, 35, 40],\n",
    "    \"Setor B\": [30, 45, 50]\n",
    "}\n",
    "\n",
    "for setor, lista in dados.items():\n",
    "    media = sum(lista) / len(lista)\n",
    "    print(f\"Média de {setor}: {media}\")\n"
   ]
  },
  {
   "cell_type": "markdown",
   "id": "91484e09",
   "metadata": {},
   "source": [
    "## 📦 Dica: listas são úteis para...\n",
    "Armazenar colunas de um CSV antes de virar DataFrame\n",
    "\n",
    "- Fazer estatísticas simples\n",
    "\n",
    "- Guardar valores de loops\n",
    "\n",
    "- Criar gráficos (listas são base para muitos pacotes como Matplotlib e Seaborn)"
   ]
  }
 ],
 "metadata": {
  "language_info": {
   "name": "python"
  }
 },
 "nbformat": 4,
 "nbformat_minor": 5
}
