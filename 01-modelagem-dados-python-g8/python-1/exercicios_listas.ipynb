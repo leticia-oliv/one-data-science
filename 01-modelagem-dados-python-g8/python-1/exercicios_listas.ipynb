{
 "cells": [
  {
   "cell_type": "markdown",
   "id": "06ab3388",
   "metadata": {},
   "source": [
    "# 🧩 Exercícios de Manipulação de Listas\n",
    "1. Soma e média simples\n",
    "Dada a lista de idades:\n",
    "\n",
    "```idades = [21, 25, 30, 19, 40, 35, 22]```\n",
    "\n",
    "- Calcule a soma das idades.\n",
    "\n",
    "- Calcule a média das idades.\n",
    "\n",
    "- Conte quantas pessoas têm mais de 30 anos."
   ]
  },
  {
   "cell_type": "code",
   "execution_count": 3,
   "id": "a9c6a5af",
   "metadata": {},
   "outputs": [
    {
     "name": "stdout",
     "output_type": "stream",
     "text": [
      "192\n",
      "27.428571428571427\n",
      "[40, 35]\n"
     ]
    }
   ],
   "source": [
    "idades = [21, 25, 30, 19, 40, 35, 22]\n",
    "soma = sum(idades)\n",
    "media = sum(idades) / len(idades)\n",
    "mais_30 = [i for i in idades if i > 30]\n",
    "\n",
    "print(soma)\n",
    "print(media)\n",
    "print(mais_30)"
   ]
  },
  {
   "cell_type": "markdown",
   "id": "4e999156",
   "metadata": {},
   "source": [
    "2. Valores extremos\n",
    "Com a mesma lista de idades:\n",
    "\n",
    "Encontre a maior e a menor idade.\n",
    "\n",
    "Subtraia a menor da maior."
   ]
  },
  {
   "cell_type": "code",
   "execution_count": 9,
   "id": "31e98f53",
   "metadata": {},
   "outputs": [
    {
     "name": "stdout",
     "output_type": "stream",
     "text": [
      "40\n",
      "19\n",
      "21\n"
     ]
    }
   ],
   "source": [
    "maior_valor = max(idades)\n",
    "menor_valor = min(idades)\n",
    "\n",
    "subtracao = maior_valor - menor_valor\n",
    "\n",
    "print(maior_valor)\n",
    "print(menor_valor)\n",
    "print(subtracao)"
   ]
  },
  {
   "cell_type": "markdown",
   "id": "94028378",
   "metadata": {},
   "source": [
    "3. Filtrando valores\n",
    "Com a lista:\n",
    "\n",
    "```temperaturas = [22.5, 23.0, 21.8, 25.1, 26.3, 19.4, 24.7]```\n",
    "\n",
    "- Crie uma nova lista apenas com temperaturas acima de 24°C.\n",
    "\n",
    "- Conte quantas estão abaixo de 22°C."
   ]
  },
  {
   "cell_type": "code",
   "execution_count": 11,
   "id": "1512d63d",
   "metadata": {},
   "outputs": [
    {
     "name": "stdout",
     "output_type": "stream",
     "text": [
      "[25.1, 26.3, 24.7]\n",
      "2\n"
     ]
    }
   ],
   "source": [
    "temperaturas = [22.5, 23.0, 21.8, 25.1, 26.3, 19.4, 24.7]\n",
    "\n",
    "mais_24 = [i for i in temperaturas if i > 24]\n",
    "menos_22 = len([i for i in temperaturas if i < 22])\n",
    "\n",
    "print(mais_24)\n",
    "print(menos_22)"
   ]
  },
  {
   "cell_type": "markdown",
   "id": "f4ec693e",
   "metadata": {},
   "source": [
    "4. Operações com índices\n",
    "\n",
    "```produtos = [\"Arroz\", \"Feijão\", \"Macarrão\", \"Açúcar\", \"Sal\"]```\n",
    "\n",
    "- Substitua \"Açúcar\" por \"Farinha\".\n",
    "\n",
    "- Remova \"Macarrão\".\n",
    "\n",
    "- Adicione \"Café\" no final da lista."
   ]
  },
  {
   "cell_type": "code",
   "execution_count": 12,
   "id": "6940c910",
   "metadata": {},
   "outputs": [
    {
     "name": "stdout",
     "output_type": "stream",
     "text": [
      "['Arroz', 'Feijão', 'Farinha', 'Sal', 'Café']\n"
     ]
    }
   ],
   "source": [
    "produtos = [\"Arroz\", \"Feijão\", \"Macarrão\", \"Açúcar\", \"Sal\"]\n",
    "\n",
    "produtos[3] = 'Farinha'\n",
    "produtos.pop(2)\n",
    "produtos.append('Café')\n",
    "\n",
    "print(produtos)"
   ]
  },
  {
   "cell_type": "markdown",
   "id": "3dac0af3",
   "metadata": {},
   "source": [
    "5. Listas aninhadas\n",
    "\n",
    "```\n",
    "vendas = [\n",
    "  [100, 200, 150],\n",
    "  [90, 300, 120],\n",
    "  [80, 400, 130]\n",
    "]\n",
    "```\n",
    "\n",
    "- Cada sublista representa as vendas em 3 meses por um funcionário.\n",
    "\n",
    "- Calcule o total de vendas de cada funcionário.\n",
    "\n",
    "- Calcule a média de vendas do segundo mês (coluna do meio)."
   ]
  },
  {
   "cell_type": "code",
   "execution_count": null,
   "id": "39f8c7b2",
   "metadata": {},
   "outputs": [],
   "source": [
    "vendas = [\n",
    "  [100, 200, 150],\n",
    "  [90, 300, 120],\n",
    "  [80, 400, 130]\n",
    "]\n"
   ]
  }
 ],
 "metadata": {
  "kernelspec": {
   "display_name": "Python 3",
   "language": "python",
   "name": "python3"
  },
  "language_info": {
   "codemirror_mode": {
    "name": "ipython",
    "version": 3
   },
   "file_extension": ".py",
   "mimetype": "text/x-python",
   "name": "python",
   "nbconvert_exporter": "python",
   "pygments_lexer": "ipython3",
   "version": "3.13.0"
  }
 },
 "nbformat": 4,
 "nbformat_minor": 5
}
