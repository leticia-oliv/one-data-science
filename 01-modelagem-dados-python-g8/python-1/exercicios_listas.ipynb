{
 "cells": [
  {
   "cell_type": "markdown",
   "id": "06ab3388",
   "metadata": {},
   "source": [
    "# 🧩 Exercícios de Manipulação de Listas\n",
    "1. Soma e média simples\n",
    "Dada a lista de idades:\n",
    "\n",
    "```idades = [21, 25, 30, 19, 40, 35, 22]```\n",
    "\n",
    "- Calcule a soma das idades.\n",
    "\n",
    "- Calcule a média das idades.\n",
    "\n",
    "- Conte quantas pessoas têm mais de 30 anos."
   ]
  },
  {
   "cell_type": "code",
   "execution_count": 3,
   "id": "a9c6a5af",
   "metadata": {},
   "outputs": [
    {
     "name": "stdout",
     "output_type": "stream",
     "text": [
      "192\n",
      "27.428571428571427\n",
      "[40, 35]\n"
     ]
    }
   ],
   "source": [
    "idades = [21, 25, 30, 19, 40, 35, 22]\n",
    "soma = sum(idades)\n",
    "media = sum(idades) / len(idades)\n",
    "mais_30 = [i for i in idades if i > 30]\n",
    "\n",
    "print(soma)\n",
    "print(media)\n",
    "print(mais_30)"
   ]
  },
  {
   "cell_type": "markdown",
   "id": "4e999156",
   "metadata": {},
   "source": [
    "2. Valores extremos\n",
    "Com a mesma lista de idades:\n",
    "\n",
    "Encontre a maior e a menor idade.\n",
    "\n",
    "Subtraia a menor da maior."
   ]
  },
  {
   "cell_type": "code",
   "execution_count": 9,
   "id": "31e98f53",
   "metadata": {},
   "outputs": [
    {
     "name": "stdout",
     "output_type": "stream",
     "text": [
      "40\n",
      "19\n",
      "21\n"
     ]
    }
   ],
   "source": [
    "maior_valor = max(idades)\n",
    "menor_valor = min(idades)\n",
    "\n",
    "subtracao = maior_valor - menor_valor\n",
    "\n",
    "print(maior_valor)\n",
    "print(menor_valor)\n",
    "print(subtracao)"
   ]
  },
  {
   "cell_type": "markdown",
   "id": "94028378",
   "metadata": {},
   "source": [
    "3. Filtrando valores\n",
    "Com a lista:\n",
    "\n",
    "```temperaturas = [22.5, 23.0, 21.8, 25.1, 26.3, 19.4, 24.7]```\n",
    "\n",
    "- Crie uma nova lista apenas com temperaturas acima de 24°C.\n",
    "\n",
    "- Conte quantas estão abaixo de 22°C."
   ]
  },
  {
   "cell_type": "code",
   "execution_count": 11,
   "id": "1512d63d",
   "metadata": {},
   "outputs": [
    {
     "name": "stdout",
     "output_type": "stream",
     "text": [
      "[25.1, 26.3, 24.7]\n",
      "2\n"
     ]
    }
   ],
   "source": [
    "temperaturas = [22.5, 23.0, 21.8, 25.1, 26.3, 19.4, 24.7]\n",
    "\n",
    "mais_24 = [i for i in temperaturas if i > 24]\n",
    "menos_22 = len([i for i in temperaturas if i < 22])\n",
    "\n",
    "print(mais_24)\n",
    "print(menos_22)"
   ]
  },
  {
   "cell_type": "markdown",
   "id": "f4ec693e",
   "metadata": {},
   "source": [
    "4. Operações com índices\n",
    "\n",
    "```produtos = [\"Arroz\", \"Feijão\", \"Macarrão\", \"Açúcar\", \"Sal\"]```\n",
    "\n",
    "- Substitua \"Açúcar\" por \"Farinha\".\n",
    "\n",
    "- Remova \"Macarrão\".\n",
    "\n",
    "- Adicione \"Café\" no final da lista."
   ]
  },
  {
   "cell_type": "code",
   "execution_count": 12,
   "id": "6940c910",
   "metadata": {},
   "outputs": [
    {
     "name": "stdout",
     "output_type": "stream",
     "text": [
      "['Arroz', 'Feijão', 'Farinha', 'Sal', 'Café']\n"
     ]
    }
   ],
   "source": [
    "produtos = [\"Arroz\", \"Feijão\", \"Macarrão\", \"Açúcar\", \"Sal\"]\n",
    "\n",
    "produtos[3] = 'Farinha'\n",
    "produtos.pop(2)\n",
    "produtos.append('Café')\n",
    "\n",
    "print(produtos)"
   ]
  },
  {
   "cell_type": "markdown",
   "id": "3dac0af3",
   "metadata": {},
   "source": [
    "5. Listas aninhadas\n",
    "\n",
    "```\n",
    "vendas = [\n",
    "  [100, 200, 150],\n",
    "  [90, 300, 120],\n",
    "  [80, 400, 130]\n",
    "]\n",
    "```\n",
    "\n",
    "- Cada sublista representa as vendas em 3 meses por um funcionário.\n",
    "\n",
    "- Calcule o total de vendas de cada funcionário.\n",
    "\n",
    "- Calcule a média de vendas do segundo mês (coluna do meio)."
   ]
  },
  {
   "cell_type": "code",
   "execution_count": 14,
   "id": "39f8c7b2",
   "metadata": {},
   "outputs": [
    {
     "name": "stdout",
     "output_type": "stream",
     "text": [
      "Média de vendas do segundo Mês: 300.0\n",
      "Funcionário 1:\n",
      "Total de vendas: 450\n",
      "Média de vendas 150.0\n",
      "Funcionário 2:\n",
      "Total de vendas: 510\n",
      "Média de vendas 170.0\n",
      "Funcionário 3:\n",
      "Total de vendas: 610\n",
      "Média de vendas 203.33333333333334\n"
     ]
    }
   ],
   "source": [
    "vendas = [\n",
    "  [100, 200, 150],\n",
    "  [90, 300, 120],\n",
    "  [80, 400, 130]\n",
    "]\n",
    "\n",
    "segundo_mes = [v[1] for v in vendas]\n",
    "media_segundo_mes = sum(segundo_mes)/len(segundo_mes)\n",
    "print(f'Média de vendas do segundo Mês: {media_segundo_mes}')\n",
    "\n",
    "for i in range(len(vendas)):\n",
    "    total_vendas = sum(vendas[i])\n",
    "    media = total_vendas / len(vendas[i])\n",
    "    print(f'Funcionário {i+1}:')\n",
    "    print(f'Total de vendas: {total_vendas}')\n",
    "    print(f'Média de vendas {media}')"
   ]
  },
  {
   "cell_type": "markdown",
   "id": "f0e8378f",
   "metadata": {},
   "source": [
    "6. Contagem de elementos\n",
    "``` notas = [7, 8.5, 9, 5, 6.5, 7, 10, 6] ```\n",
    "\n",
    "- Conte quantas notas são maiores que 7.\n",
    "\n",
    "- Conte quantas vezes a nota 7 aparece.\n",
    "\n",
    "- Calcule a porcentagem de alunos com nota acima de 6."
   ]
  },
  {
   "cell_type": "code",
   "execution_count": 17,
   "id": "11baf4d7",
   "metadata": {},
   "outputs": [
    {
     "name": "stdout",
     "output_type": "stream",
     "text": [
      "Notas maiores que 7: 3\n",
      "Quantas vezes a nota 7 aparece = 2\n",
      "A porcentagem de alunos com nota acima de 6 = 75.00%\n"
     ]
    }
   ],
   "source": [
    "notas = [7, 8.5, 9, 5, 6.5, 7, 10, 6]\n",
    "\n",
    "maior_7 = [i for i in notas if i > 7]\n",
    "nota_7 = [i for i in notas if i == 7]\n",
    "maior_6 = [i for i in notas if i > 6]\n",
    "porcentagem = (len(maior_6) / len(notas)) * 100\n",
    "\n",
    "print(f'Notas maiores que 7: {len(maior_7)}')\n",
    "print(f'Quantas vezes a nota 7 aparece = {len(nota_7)}')\n",
    "print(f'A porcentagem de alunos com nota acima de 6 = {porcentagem:.2f}%')"
   ]
  },
  {
   "cell_type": "markdown",
   "id": "81969dbb",
   "metadata": {},
   "source": [
    "7. Criar uma lista com range()\n",
    "- Crie uma lista com os números de 1 a 100.\n",
    "\n",
    "- Separe os pares e ímpares em listas diferentes.\n",
    "\n",
    "- Calcule a média dos números múltiplos de 5."
   ]
  },
  {
   "cell_type": "code",
   "execution_count": 18,
   "id": "1f7152c2",
   "metadata": {},
   "outputs": [
    {
     "name": "stdout",
     "output_type": "stream",
     "text": [
      "Números pares: [2, 4, 6, 8, 10, 12, 14, 16, 18, 20, 22, 24, 26, 28, 30, 32, 34, 36, 38, 40, 42, 44, 46, 48, 50, 52, 54, 56, 58, 60, 62, 64, 66, 68, 70, 72, 74, 76, 78, 80, 82, 84, 86, 88, 90, 92, 94, 96, 98, 100]\n",
      "Números ímpares: [1, 3, 5, 7, 9, 11, 13, 15, 17, 19, 21, 23, 25, 27, 29, 31, 33, 35, 37, 39, 41, 43, 45, 47, 49, 51, 53, 55, 57, 59, 61, 63, 65, 67, 69, 71, 73, 75, 77, 79, 81, 83, 85, 87, 89, 91, 93, 95, 97, 99]\n",
      "Média dos múltiplos de 5: 52.5\n"
     ]
    }
   ],
   "source": [
    "numeros = list(range(1, 101))\n",
    "\n",
    "pares = [n for n in numeros if n % 2 == 0]\n",
    "impares = [n for n in numeros if n % 2 != 0]\n",
    "multiplos_5 = [n for n in numeros if n % 5 == 0]\n",
    "media_multiplos_5 = sum(multiplos_5)/len(multiplos_5)\n",
    "\n",
    "print(f'Números pares: {pares}')\n",
    "print(f'Números ímpares: {impares}')\n",
    "print(f'Média dos múltiplos de 5: {media_multiplos_5}')"
   ]
  },
  {
   "cell_type": "markdown",
   "id": "083f50c2",
   "metadata": {},
   "source": [
    "8. List Comprehension\n",
    "Dada:\n",
    "```idades = [15, 18, 21, 17, 16, 25, 30]```\n",
    "\n",
    "- Crie uma nova lista apenas com maiores de idade.\n",
    "\n",
    "- Multiplique todas as idades por 2 usando list comprehension."
   ]
  },
  {
   "cell_type": "code",
   "execution_count": 1,
   "id": "c0e88d68",
   "metadata": {},
   "outputs": [
    {
     "name": "stdout",
     "output_type": "stream",
     "text": [
      "Maiores de idade: [18, 21, 25, 30]\n",
      "Todas as idades multiplicadas por 2: [30, 36, 42, 34, 32, 50, 60]\n"
     ]
    }
   ],
   "source": [
    "idades = [15, 18, 21, 17, 16, 25, 30]\n",
    "maiores_idade = [i for i in idades if i >= 18]\n",
    "dobro_idades = [i * 2 for i in idades]\n",
    "\n",
    "print(f'Maiores de idade: {maiores_idade}')\n",
    "print(f'Todas as idades multiplicadas por 2: {dobro_idades}')"
   ]
  },
  {
   "cell_type": "markdown",
   "id": "0e9b8805",
   "metadata": {},
   "source": [
    "9. Simulação de dados:\n",
    "Crie uma lista com 20 valores representando notas entre 0 e 10 (pode ser com random.randint()).\n",
    "\n",
    "Calcule:\n",
    "\n",
    "- Média da turma\n",
    "\n",
    "- Maior e menor nota\n",
    "\n",
    "- Quantos alunos foram aprovados (nota ≥ 6)"
   ]
  },
  {
   "cell_type": "code",
   "execution_count": 2,
   "id": "0c782609",
   "metadata": {},
   "outputs": [
    {
     "name": "stdout",
     "output_type": "stream",
     "text": [
      "Notas: [10, 4, 5, 2, 0, 7, 6, 1, 6, 0]\n",
      "Média: 4.10\n",
      "Maior nota: 10\n",
      "Menor nota: 0\n",
      "Aprovados: [10, 7, 6, 6]\n"
     ]
    }
   ],
   "source": [
    "import random\n",
    "\n",
    "notas = [random.randint(0, 10) for _ in range(10)]\n",
    "media = sum(notas) / len(notas)\n",
    "maior_nota = max(notas)\n",
    "menor_nota = min(notas)\n",
    "aprovados = [i for i in notas if i >= 6]\n",
    "\n",
    "print(f'Notas: {notas}')\n",
    "print(f'Média: {media:.2f}')\n",
    "print(f'Maior nota: {maior_nota}')\n",
    "print(f'Menor nota: {menor_nota}')\n",
    "print(f'Aprovados: {aprovados}')\n"
   ]
  },
  {
   "cell_type": "markdown",
   "id": "240846cb",
   "metadata": {},
   "source": [
    "10. Mini-desafio\n",
    "Você recebeu os dados de faturamento mensal de uma empresa:\n",
    "\n",
    "```faturamento = [1200, 1350, 1600, 2000, 2300, 2100, 1900, 2500, 2700, 3000, 3200, 3100]```\n",
    "\n",
    "- Qual foi o mês de maior faturamento?\n",
    "    \n",
    "- Qual a média anual de faturamento?\n",
    "\n",
    "- Qual foi o total faturado no segundo semestre?"
   ]
  },
  {
   "cell_type": "code",
   "execution_count": 3,
   "id": "c19d7bff",
   "metadata": {},
   "outputs": [
    {
     "name": "stdout",
     "output_type": "stream",
     "text": [
      "Mês de maior faturamento: Novembro (R$ 3200)\n",
      "Média anual de faturamento: R$ 2245.83\n",
      "Total faturado no segundo semestre: R$ 16400\n"
     ]
    }
   ],
   "source": [
    "faturamento = [1200, 1350, 1600, 2000, 2300, 2100, 1900, 2500, 2700, 3000, 3200, 3100]\n",
    "\n",
    "meses = [\n",
    "    \"Janeiro\", \"Fevereiro\", \"Março\", \"Abril\", \"Maio\", \"Junho\", \"Julho\", \"Agosto\", \"Setembro\", \"Outubro\", \"Novembro\", \"Dezembro\"\n",
    "]\n",
    "\n",
    "# maior faturamento:\n",
    "maior_valor = max(faturamento)\n",
    "indice_maior = faturamento.index(maior_valor)\n",
    "mes_maior_faturamento = meses[indice_maior]\n",
    "\n",
    "# media anual de faturamento\n",
    "media_anual = sum(faturamento) / len(faturamento)\n",
    "\n",
    "# total do segundo semestre\n",
    "segundo_semestre = faturamento[6:]\n",
    "total_segundo_semestre = sum(segundo_semestre)\n",
    "\n",
    "print(f\"Mês de maior faturamento: {mes_maior_faturamento} (R$ {maior_valor})\")\n",
    "print(f\"Média anual de faturamento: R$ {media_anual:.2f}\")\n",
    "print(f\"Total faturado no segundo semestre: R$ {total_segundo_semestre}\")"
   ]
  }
 ],
 "metadata": {
  "kernelspec": {
   "display_name": "Python 3",
   "language": "python",
   "name": "python3"
  },
  "language_info": {
   "codemirror_mode": {
    "name": "ipython",
    "version": 3
   },
   "file_extension": ".py",
   "mimetype": "text/x-python",
   "name": "python",
   "nbconvert_exporter": "python",
   "pygments_lexer": "ipython3",
   "version": "3.13.0"
  }
 },
 "nbformat": 4,
 "nbformat_minor": 5
}
