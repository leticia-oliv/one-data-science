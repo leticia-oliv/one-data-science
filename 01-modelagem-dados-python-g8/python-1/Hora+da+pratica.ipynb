{
 "cells": [
  {
   "cell_type": "markdown",
   "metadata": {
    "id": "_kwAaQ36gLQ1"
   },
   "source": [
    "# Sobre o notebook\n",
    "\n",
    "A \"hora da prática\" é uma atividade do curso de Python para Data Science da Alura que contém diversos desafios envolvendo os aprendizados de cada aula.\n",
    "\n",
    "O notebook \"hora da pratica\" é um notebook construído com espaço para as células dos desafios propostos no curso, com ele você tem espaço para construir e executar suas soluções"
   ]
  },
  {
   "cell_type": "markdown",
   "metadata": {
    "id": "Mc-KN0dA0Z83"
   },
   "source": [
    "## Aula 1 - Introdução ao Python"
   ]
  },
  {
   "cell_type": "markdown",
   "metadata": {
    "id": "l5eLWf0W0ikn"
   },
   "source": [
    "### Questão 1\n",
    "\n",
    "Imprima a frase `Escola de Dados da Alura!`"
   ]
  },
  {
   "cell_type": "code",
   "execution_count": null,
   "metadata": {
    "id": "5pllxJ0h0-yA"
   },
   "outputs": [],
   "source": [
    "print('Escola de Dados da Alura!')"
   ]
  },
  {
   "cell_type": "markdown",
   "metadata": {
    "id": "tQdX90Ue03c7"
   },
   "source": [
    "### Questão 2\n",
    "Imprima na tela seu nome e seu sobrenome seguindo a estrutura abaixo:\n",
    "```\n",
    "Nome: [seu nome]\n",
    "Sobrenome: [seu sobrenome]\n",
    "```\n"
   ]
  },
  {
   "cell_type": "code",
   "execution_count": null,
   "metadata": {
    "id": "RVw5iKn20_Ps"
   },
   "outputs": [],
   "source": [
    "print('Nome: Letícia')\n",
    "print('Sobrenome: Oliveira')"
   ]
  },
  {
   "cell_type": "markdown",
   "metadata": {
    "id": "gfg-aiip03vC"
   },
   "source": [
    "### Questão 3\n",
    "Imprima o seu primeiro nome letra a letra. Por exemplo, nome é Mirla, então eu obtenho a seguinte saída:\n",
    "```\n",
    "M\n",
    "I\n",
    "R\n",
    "L\n",
    "A\n",
    "```\n"
   ]
  },
  {
   "cell_type": "code",
   "execution_count": null,
   "metadata": {
    "id": "v5bkrgf60_qx"
   },
   "outputs": [],
   "source": [
    "# Como visto na aula:\n",
    "print('L')\n",
    "print('e')\n",
    "print('t')\n",
    "print('í')\n",
    "print('c')\n",
    "print('i')\n",
    "print('a')"
   ]
  },
  {
   "cell_type": "code",
   "execution_count": 6,
   "metadata": {},
   "outputs": [
    {
     "name": "stdout",
     "output_type": "stream",
     "text": [
      "L\n",
      "e\n",
      "t\n",
      "í\n",
      "c\n",
      "i\n",
      "a\n"
     ]
    }
   ],
   "source": [
    "# Simplificado:\n",
    "nome = 'Letícia'\n",
    "for i in nome:\n",
    "    print (i)"
   ]
  },
  {
   "cell_type": "markdown",
   "metadata": {
    "id": "oadrJbl704MM"
   },
   "source": [
    "### Questão 4\n",
    "Imprima o dia do seu nascimento em formato `dia mês ano`. Os valores de dia e ano não podem estar entre aspas. O formato deve estar como no exemplo, supondo uma data de aniversário dia 28 de fevereiro de 2003:\n",
    "```\n",
    "28 fevereiro 2003\n",
    "```"
   ]
  },
  {
   "cell_type": "code",
   "execution_count": null,
   "metadata": {
    "id": "cx0KSsrq1ALD"
   },
   "outputs": [
    {
     "name": "stdout",
     "output_type": "stream",
     "text": [
      "2\n",
      "dezembro\n",
      "2000\n"
     ]
    }
   ],
   "source": [
    "print(int(2))\n",
    "print('dezembro')\n",
    "print(int(2000))"
   ]
  },
  {
   "cell_type": "markdown",
   "metadata": {},
   "source": [
    "#### Nota:\n",
    "Eu tentei, a princípio, adicionar meu aniversário como `print(int(02))`. Mas em python 3 **não é permitido usar zero à esquerda em números inteiros.** Isso gerou um erro de sintaxe."
   ]
  },
  {
   "cell_type": "markdown",
   "metadata": {
    "id": "3RgyMaan04TD"
   },
   "source": [
    "### Questão 5\n",
    "Imprima em um único print o atual ano que você está fazendo esse curso, o valor do ano deve ser um dado numérico. A saída do print deve ser a seguinte:\n",
    "```\n",
    "Ano atual: [ano]\n",
    "```\n"
   ]
  },
  {
   "cell_type": "code",
   "execution_count": 10,
   "metadata": {
    "id": "UN77EfQ2d36Y"
   },
   "outputs": [
    {
     "name": "stdout",
     "output_type": "stream",
     "text": [
      "Ano atual: 2025\n"
     ]
    }
   ],
   "source": [
    "ano = 2025\n",
    "print('Ano atual:', ano)"
   ]
  },
  {
   "cell_type": "markdown",
   "metadata": {
    "id": "D9e3FqhO1S3X"
   },
   "source": [
    "## Aula 2 - Manipulando dados no Python"
   ]
  },
  {
   "cell_type": "markdown",
   "metadata": {
    "id": "n6o7C1Ze2cRe"
   },
   "source": [
    "### Coleta e amostragem de dados"
   ]
  },
  {
   "cell_type": "markdown",
   "metadata": {
    "id": "sRneWag9PV5Q"
   },
   "source": [
    "#### Questão 1\n",
    "Crie um programa que solicite à pessoa usuária digitar seu nome, e imprima “Olá, [nome]!”."
   ]
  },
  {
   "cell_type": "code",
   "execution_count": 15,
   "metadata": {
    "id": "dbX1fKqy2HnE"
   },
   "outputs": [
    {
     "name": "stdout",
     "output_type": "stream",
     "text": [
      "Olá letícia!\n"
     ]
    }
   ],
   "source": [
    "nome = input('Qual o seu nome?')\n",
    "print(f'Olá {nome}!')"
   ]
  },
  {
   "cell_type": "markdown",
   "metadata": {
    "id": "BJ1SznEp70d5"
   },
   "source": [
    "#### Questão 2\n",
    "Crie um programa que solicite à pessoa usuária digitar seu nome e idade, e imprima “Olá, [nome], você tem [idade] anos.”."
   ]
  },
  {
   "cell_type": "code",
   "execution_count": 16,
   "metadata": {
    "id": "jKz-0Sq8PFkp"
   },
   "outputs": [
    {
     "name": "stdout",
     "output_type": "stream",
     "text": [
      "Olá, letícia! Você tem 24 anos.\n"
     ]
    }
   ],
   "source": [
    "nome = input('Qual seu nome?')\n",
    "idade = input('Quantos anos você tem?')\n",
    "print(f'Olá, {nome}! Você tem {idade} anos.')"
   ]
  },
  {
   "cell_type": "markdown",
   "metadata": {
    "id": "2T0jNYZt70aa"
   },
   "source": [
    "#### Questão 3\n",
    "Crie um programa que solicite à pessoa usuária digitar seu nome, idade e altura em metros, e imprima “Olá, [nome], você tem [idade] anos e mede [altura] metros!”."
   ]
  },
  {
   "cell_type": "code",
   "execution_count": 17,
   "metadata": {
    "id": "pI4kHNzTPIXh"
   },
   "outputs": [
    {
     "name": "stdout",
     "output_type": "stream",
     "text": [
      "Olá, letícia, você tem 24 anos e mede 1.64 metros!\n"
     ]
    }
   ],
   "source": [
    "nome = input('Qual seu nome?')\n",
    "idade = input('Quantos anos você tem?')\n",
    "altura = input('Qual sua altura em metros?')\n",
    "print(f'Olá, {nome}, você tem {idade} anos e mede {altura} metros!')"
   ]
  },
  {
   "cell_type": "markdown",
   "metadata": {
    "id": "mEBFwKkC70KP"
   },
   "source": [
    "### Calculadora com operadores"
   ]
  },
  {
   "cell_type": "markdown",
   "metadata": {
    "id": "H-IV1oAPPSqK"
   },
   "source": [
    "#### Questão 1\n",
    "\n",
    "Crie um programa que solicite dois valores numéricos à pessoa usuária e imprima a soma dos dois valores."
   ]
  },
  {
   "cell_type": "code",
   "execution_count": 20,
   "metadata": {
    "id": "Zb0W84sy8rnp"
   },
   "outputs": [
    {
     "name": "stdout",
     "output_type": "stream",
     "text": [
      "A soma dos dois valores é: 3\n"
     ]
    }
   ],
   "source": [
    "numero1 = int(input('Valor 1: '))\n",
    "numero2 = int(input('Valor 2: '))\n",
    "soma = numero1 + numero2\n",
    "print(f'A soma dos dois valores é: {soma}')"
   ]
  },
  {
   "cell_type": "markdown",
   "metadata": {
    "id": "LUoi2MOu70Em"
   },
   "source": [
    "#### Questão 2\n",
    "Crie um programa que solicite três valores numéricos à pessoa usuária e imprima a soma dos três valores."
   ]
  },
  {
   "cell_type": "code",
   "execution_count": 21,
   "metadata": {
    "id": "4FYjWyBS8rDm"
   },
   "outputs": [
    {
     "name": "stdout",
     "output_type": "stream",
     "text": [
      "A soma dos três valores é: 6\n"
     ]
    }
   ],
   "source": [
    "numero1 = int(input('Valor 1: '))\n",
    "numero2 = int(input('Valor 2: '))\n",
    "numero3 = int(input('Valor 3: '))\n",
    "soma = numero1 + numero2 + numero3\n",
    "print(f'A soma dos três valores é: {soma}')"
   ]
  },
  {
   "cell_type": "markdown",
   "metadata": {
    "id": "lezGctF07z8i"
   },
   "source": [
    "#### Questão 3\n",
    "Crie um programa que solicite dois valores numéricos à pessoa usuária e imprima a subtração do primeiro pelo o segundo valor."
   ]
  },
  {
   "cell_type": "code",
   "execution_count": 22,
   "metadata": {
    "id": "k0GE1z4w8p3J"
   },
   "outputs": [
    {
     "name": "stdout",
     "output_type": "stream",
     "text": [
      "A subtração dos dois valores é: 8\n"
     ]
    }
   ],
   "source": [
    "numero1 = int(input('Valor 1: '))\n",
    "numero2 = int(input('Valor 2: '))\n",
    "subtracao = numero1 - numero2\n",
    "print(f'A subtração dos dois valores é: {subtracao}')"
   ]
  },
  {
   "cell_type": "markdown",
   "metadata": {
    "id": "wwMP-dPU7zxW"
   },
   "source": [
    "#### Questão 4\n",
    "\n",
    "Crie um programa que solicite dois valores numéricos à pessoa usuária e imprima a multiplicação dos dois valores.\n"
   ]
  },
  {
   "cell_type": "code",
   "execution_count": 23,
   "metadata": {
    "id": "GzFCVHfp8peZ"
   },
   "outputs": [
    {
     "name": "stdout",
     "output_type": "stream",
     "text": [
      "A multiplicação dos dois valores é: 20\n"
     ]
    }
   ],
   "source": [
    "numero1 = int(input('Valor 1: '))\n",
    "numero2 = int(input('Valor 2: '))\n",
    "multiplicacao = numero1 * numero2\n",
    "print(f'A multiplicação dos dois valores é: {multiplicacao}')"
   ]
  },
  {
   "cell_type": "markdown",
   "metadata": {
    "id": "9kxyHxUo7zRD"
   },
   "source": [
    "#### Questão 5\n",
    "\n",
    "Crie um programa que solicite dois valores numéricos, um numerador e um denominador, e realize a divisão entre os dois valores. Deixe claro que o valor do denominador não pode ser `0`.\n"
   ]
  },
  {
   "cell_type": "code",
   "execution_count": 25,
   "metadata": {
    "id": "ytJ8l5KH8ozc"
   },
   "outputs": [
    {
     "name": "stdout",
     "output_type": "stream",
     "text": [
      "Denominador não pode ser 0!\n",
      "Denominador não pode ser 0!\n",
      "A divisão dos dois valores é: 4.0\n"
     ]
    }
   ],
   "source": [
    "numerador = int(input('Digite um numerador: '))\n",
    "denominador = int(input('Digite o denominador (Não pode ser 0!): '))\n",
    "while denominador == 0:\n",
    "    print('Denominador não pode ser 0!')\n",
    "    denominador = int(input('Digite o denominador (Não pode ser 0!): '))\n",
    "divisao = numerador / denominador\n",
    "print(f'A divisão dos dois valores é: {divisao}')"
   ]
  },
  {
   "cell_type": "markdown",
   "metadata": {
    "id": "zkUSBTQq8Hxt"
   },
   "source": [
    "#### Questão 6\n",
    "\n",
    "Crie um programa que solicite dois valores numéricos, um operador e uma potência, e realize a exponenciação entre esses dois valores.\n"
   ]
  },
  {
   "cell_type": "code",
   "execution_count": 26,
   "metadata": {
    "id": "RPj36jq08oZp"
   },
   "outputs": [
    {
     "name": "stdout",
     "output_type": "stream",
     "text": [
      "A exponenciação dos dois valores é: 16\n"
     ]
    }
   ],
   "source": [
    "operador = int(input('Digite um operador: '))\n",
    "potência = int(input('Digite uma potência : '))\n",
    "exponenciacao = operador ** potência\n",
    "print(f'A exponenciação dos dois valores é: {exponenciacao}')"
   ]
  },
  {
   "cell_type": "markdown",
   "metadata": {
    "id": "yiunIusZ8Huj"
   },
   "source": [
    "#### Questão 7\n",
    "Crie um programa que solicite dois valores numéricos, um numerador e um denominador e realize a divisão inteira entre os dois valores. Deixe claro que o valor do denominador não pode ser `0`."
   ]
  },
  {
   "cell_type": "code",
   "execution_count": 29,
   "metadata": {
    "id": "UHK8xITf8oCg"
   },
   "outputs": [
    {
     "name": "stdout",
     "output_type": "stream",
     "text": [
      "A divisão inteira dos dois valores é: 8\n"
     ]
    }
   ],
   "source": [
    "numerador = int(input('Digite um numerador: '))\n",
    "denominador = int(input('Digite o denominador (Não pode ser 0!): '))\n",
    "while denominador == 0:\n",
    "    print('Denominador não pode ser 0!')\n",
    "    denominador = int(input('Digite o denominador (Não pode ser 0!): '))\n",
    "divisao = numerador // denominador\n",
    "print(f'A divisão inteira dos dois valores é: {divisao}')"
   ]
  },
  {
   "cell_type": "markdown",
   "metadata": {
    "id": "z_D_JiLX8Hra"
   },
   "source": [
    "#### Questão 8\n",
    "\n",
    "Crie um programa que solicite dois valores numéricos, um numerador e um denominador, e retorne o resto da divisão entre os dois valores. Deixe claro que o valor do denominador não pode ser `0`."
   ]
  },
  {
   "cell_type": "code",
   "execution_count": 30,
   "metadata": {
    "id": "EWGJeukO8nqx"
   },
   "outputs": [
    {
     "name": "stdout",
     "output_type": "stream",
     "text": [
      "O resto da divisão dos dois valores é: 0\n"
     ]
    }
   ],
   "source": [
    "numerador = int(input('Digite um numerador: '))\n",
    "denominador = int(input('Digite o denominador (Não pode ser 0!): '))\n",
    "while denominador == 0:\n",
    "    print('Denominador não pode ser 0!')\n",
    "    denominador = int(input('Digite o denominador (Não pode ser 0!): '))\n",
    "resto = numerador % denominador\n",
    "print(f'O resto da divisão dos dois valores é: {resto}')"
   ]
  },
  {
   "cell_type": "markdown",
   "metadata": {
    "id": "RDRajNkU8N8N"
   },
   "source": [
    "#### Questão 9\n",
    "\n",
    "Crie um código que solicita 3 notas de um estudante e imprima a média das notas."
   ]
  },
  {
   "cell_type": "code",
   "execution_count": null,
   "metadata": {
    "id": "H6F4Ojzt8nSR"
   },
   "outputs": [
    {
     "name": "stdout",
     "output_type": "stream",
     "text": [
      "A média do aluno é: 8.9\n"
     ]
    }
   ],
   "source": [
    "nota1 = float(input('Digite a nota 1 do estudante: '))\n",
    "nota2 = float(input('Digite a nota 2 do estudante: '))\n",
    "nota3 = float(input('Digite a nota 3 do estudante: '))\n",
    "media = (nota1 + nota2 + nota3) / 3\n",
    "print(f'A média do aluno é: {media}')\n"
   ]
  },
  {
   "cell_type": "markdown",
   "metadata": {
    "id": "d7fjkne58N21"
   },
   "source": [
    "#### Questão 10\n",
    "\n",
    "Crie um código que calcule e imprima a média ponderada dos números 5, 12, 20 e 15 com pesos respectivamente iguais a 1, 2, 3 e 4."
   ]
  },
  {
   "cell_type": "code",
   "execution_count": null,
   "metadata": {
    "id": "fwjoHlV48mkv"
   },
   "outputs": [],
   "source": [
    "numeros = [5, 12, 20, 15]\n",
    "pesos = [1, 2, 3, 4]\n",
    "media_ponderada = sum(n * p for n, p in zip(numeros, pesos)) / sum(pesos)\n",
    "print(f'A média ponderada é: {media_ponderada}')\n"
   ]
  },
  {
   "cell_type": "markdown",
   "metadata": {
    "id": "GNmbX1OU8N0V"
   },
   "source": [
    "### Editando textos"
   ]
  },
  {
   "cell_type": "markdown",
   "metadata": {
    "id": "6wZ85mCsRCV0"
   },
   "source": [
    "#### Questão 1\n",
    "\n",
    "Crie uma variável chamada “`frase`” e atribua a ela uma string de sua escolha. Em seguida, imprima a frase na tela."
   ]
  },
  {
   "cell_type": "code",
   "execution_count": 33,
   "metadata": {
    "id": "eRqr_gh-8mFy"
   },
   "outputs": [
    {
     "name": "stdout",
     "output_type": "stream",
     "text": [
      "Essa é uma frase.\n"
     ]
    }
   ],
   "source": [
    "frase = 'Essa é uma frase.'\n",
    "print(frase)"
   ]
  },
  {
   "cell_type": "markdown",
   "metadata": {
    "id": "Aac17z-18Nwv"
   },
   "source": [
    "#### Questão 2\n",
    "Crie um código que solicite uma frase e depois imprima a frase na tela."
   ]
  },
  {
   "cell_type": "code",
   "execution_count": null,
   "metadata": {
    "id": "8zfE2hh98lb0"
   },
   "outputs": [],
   "source": [
    "frase = input('Escreva uma frase: ')"
   ]
  },
  {
   "cell_type": "markdown",
   "metadata": {
    "id": "DXVzqpN58Ntr"
   },
   "source": [
    "#### Questão 3\n",
    "\n",
    "Crie um código que solicite uma frase à pessoa usuária e imprima a mesma frase digitada mas com todas as letras maiúsculas."
   ]
  },
  {
   "cell_type": "code",
   "execution_count": 4,
   "metadata": {
    "id": "d0VzoYP68k-I"
   },
   "outputs": [
    {
     "name": "stdout",
     "output_type": "stream",
     "text": [
      "HORA DA PRÁTICA\n"
     ]
    }
   ],
   "source": [
    "frase = input('Escreva uma frase: ')\n",
    "print(frase.upper())"
   ]
  },
  {
   "cell_type": "markdown",
   "metadata": {
    "id": "I12VeNPK8Nqb"
   },
   "source": [
    "#### Questão 4\n",
    "\n",
    "Crie um código que solicite uma frase à pessoa usuária e imprima a mesma frase digitada mas com todas as letras minúsculas."
   ]
  },
  {
   "cell_type": "code",
   "execution_count": 5,
   "metadata": {
    "id": "KD8rNy2K8kox"
   },
   "outputs": [
    {
     "name": "stdout",
     "output_type": "stream",
     "text": [
      "essa é uma frase\n"
     ]
    }
   ],
   "source": [
    "frase = input('Escreva uma frase: ')\n",
    "print(frase.lower())"
   ]
  },
  {
   "cell_type": "markdown",
   "metadata": {
    "id": "cRqngSE48Nog"
   },
   "source": [
    "#### Questão 5\n",
    "\n",
    "Crie uma variável chamada “`frase`” e atribua a ela uma string de sua escolha. Em seguida, imprima a frase sem espaços em branco no início e no fim."
   ]
  },
  {
   "cell_type": "code",
   "execution_count": 6,
   "metadata": {
    "id": "aSCpdF-o8kBs"
   },
   "outputs": [
    {
     "name": "stdout",
     "output_type": "stream",
     "text": [
      "Hora de Praticar!!\n"
     ]
    }
   ],
   "source": [
    "frase = '   Hora de Praticar!!   '\n",
    "print(frase.strip())"
   ]
  },
  {
   "cell_type": "markdown",
   "metadata": {
    "id": "murIazpQ8Nkv"
   },
   "source": [
    "#### Questão 6\n",
    "\n",
    "Crie um código que solicite uma frase à pessoa usuária e imprima a mesma frase sem espaços em branco no início e no fim."
   ]
  },
  {
   "cell_type": "code",
   "execution_count": null,
   "metadata": {
    "id": "tHunjwuG8jNq"
   },
   "outputs": [],
   "source": [
    "frase = input('Escreva uma frase com espaços em branco no início e no fim: ')\n",
    "print(frase.strip())"
   ]
  },
  {
   "cell_type": "markdown",
   "metadata": {
    "id": "eRxc2OeX8Nh2"
   },
   "source": [
    "#### Questão 7\n",
    "\n",
    "\n",
    "Crie um código que solicite uma frase à pessoa usuária e imprima a mesma frase sem espaços em branco no início e no fim e em letras minúsculas."
   ]
  },
  {
   "cell_type": "code",
   "execution_count": 7,
   "metadata": {
    "id": "DYm0_UwS8ih6"
   },
   "outputs": [
    {
     "name": "stdout",
     "output_type": "stream",
     "text": [
      "eu amo python!!\n"
     ]
    }
   ],
   "source": [
    "frase = input(\"Digite uma frase: \")\n",
    "print(frase.strip().lower())"
   ]
  },
  {
   "cell_type": "markdown",
   "metadata": {
    "id": "UKATLavs8NfI"
   },
   "source": [
    "#### Questão 8\n",
    "\n",
    "Crie um código que solicite uma frase à pessoa usuária e imprima a mesma frase com todas as vogais “`e`” trocadas pela letra “`f`”."
   ]
  },
  {
   "cell_type": "code",
   "execution_count": 8,
   "metadata": {
    "id": "k64C5G5S8iLO"
   },
   "outputs": [
    {
     "name": "stdout",
     "output_type": "stream",
     "text": [
      "afiou\n"
     ]
    }
   ],
   "source": [
    "frase = input(\"Digite uma frase: \")\n",
    "nova_frase = frase.replace(\"e\", \"f\")\n",
    "print(nova_frase)"
   ]
  },
  {
   "cell_type": "markdown",
   "metadata": {
    "id": "n_1SPchw8NdG"
   },
   "source": [
    "#### Questão 9\n",
    "\n",
    "\n",
    "Crie um código que solicite uma frase à pessoa usuária e imprima a mesma frase com todas as vogais “`a`” trocadas pela caractere  “`@`”."
   ]
  },
  {
   "cell_type": "code",
   "execution_count": 9,
   "metadata": {
    "id": "msaDNm_p8h0D"
   },
   "outputs": [
    {
     "name": "stdout",
     "output_type": "stream",
     "text": [
      "@mo el@!!!\n"
     ]
    }
   ],
   "source": [
    "frase = input(\"Digite uma frase: \")\n",
    "nova_frase = frase.replace(\"a\", \"@\")\n",
    "print(nova_frase)"
   ]
  },
  {
   "cell_type": "markdown",
   "metadata": {
    "id": "H3sTTjqI8Naa"
   },
   "source": [
    "#### Questão 10\n",
    "\n",
    "\n",
    "Crie um código que solicite uma frase à pessoa usuária e imprima a mesma frase com todas as consoantes “`s`” trocadas pelo caractere  “`$`”."
   ]
  },
  {
   "cell_type": "code",
   "execution_count": 10,
   "metadata": {
    "id": "RPBIsWT68e-1"
   },
   "outputs": [
    {
     "name": "stdout",
     "output_type": "stream",
     "text": [
      "e$tamo$ rico$!!!\n"
     ]
    }
   ],
   "source": [
    "frase = input(\"Digite uma frase: \")\n",
    "nova_frase = frase.replace(\"s\", \"$\")\n",
    "print(nova_frase)"
   ]
  },
  {
   "cell_type": "markdown",
   "metadata": {
    "id": "XGePe4GD2I59"
   },
   "source": [
    "## Aula 3 - Estruturas condicionais"
   ]
  },
  {
   "cell_type": "markdown",
   "metadata": {
    "id": "Pr9HTW0UHCdD"
   },
   "source": [
    "### Aquecendo na programação"
   ]
  },
  {
   "cell_type": "markdown",
   "metadata": {
    "id": "xBZHqhVg80Fy"
   },
   "source": [
    "#### Questão 1\n",
    "Escreva um programa que peça à pessoa usuária para fornecer dois números e exibir o número maior."
   ]
  },
  {
   "cell_type": "code",
   "execution_count": 3,
   "metadata": {
    "id": "GJlGnzjc-xyF"
   },
   "outputs": [
    {
     "name": "stdout",
     "output_type": "stream",
     "text": [
      "Os dois números são iguais!\n"
     ]
    }
   ],
   "source": [
    "numero1 = int(input('Escreva o primeiro número: '))\n",
    "numero2 = int(input('Escreva o segundo número: '))\n",
    "\n",
    "if numero1 > numero2:\n",
    "    print('O primeiro número é maior!')\n",
    "elif numero2 > numero1:\n",
    "    print('O segundo número é maior!')\n",
    "else:\n",
    "    print('Os dois números são iguais!')"
   ]
  },
  {
   "cell_type": "markdown",
   "metadata": {
    "id": "H4sgN7dyHNJF"
   },
   "source": [
    "#### Questão 2\n",
    "Escreva um programa que solicite o percentual de crescimento de produção de uma empresa e informe se houve um crescimento (porcentagem positiva) ou decrescimento (porcentagem negativa)."
   ]
  },
  {
   "cell_type": "code",
   "execution_count": null,
   "metadata": {
    "id": "-2_Ry5XJ-yZW"
   },
   "outputs": [],
   "source": [
    "percentual = float(input(\"Digite o percentual de crescimento da produção (%): \"))\n",
    "\n",
    "if percentual > 0:\n",
    "    print(\"Crescimento na produção.\")\n",
    "elif percentual < 0:\n",
    "    print(\"Decrescimento na produção.\")\n",
    "else:\n",
    "    print(\"A produção se manteve estável.\")\n"
   ]
  },
  {
   "cell_type": "markdown",
   "metadata": {
    "id": "a_mzNOBDHNny"
   },
   "source": [
    "#### Questão 3\n",
    "Escreva um programa que determine se uma letra fornecida pela pessoa usuária é uma vogal ou consoante."
   ]
  },
  {
   "cell_type": "code",
   "execution_count": 5,
   "metadata": {
    "id": "NbgndVyg-zFJ"
   },
   "outputs": [
    {
     "name": "stdout",
     "output_type": "stream",
     "text": [
      "É uma consoante!\n"
     ]
    }
   ],
   "source": [
    "vogais = ['a', 'e', 'i', 'o', 'u']\n",
    "letra = input('Digite uma letra: ').lower()\n",
    "if letra in vogais:\n",
    "    print('É uma vogal!')\n",
    "else:\n",
    "    print('É uma consoante!')"
   ]
  },
  {
   "cell_type": "markdown",
   "metadata": {
    "id": "mofMRjSZHP99"
   },
   "source": [
    "#### Questão 4\n",
    "Escreva um programa que leia valores médios de preços de um modelo de carro por 3 anos consecutivos e exiba o valor mais alto e mais baixo entre esses três anos."
   ]
  },
  {
   "cell_type": "code",
   "execution_count": null,
   "metadata": {
    "id": "TX--d3k9-02c"
   },
   "outputs": [],
   "source": [
    "# Como visto na aula...\n",
    "preco1 = float(input(\"Digite o preço médio do primeiro ano: R$ \"))\n",
    "preco2 = float(input(\"Digite o preço médio do segundo ano: R$ \"))\n",
    "preco3 = float(input(\"Digite o preço médio do terceiro ano: R$ \"))\n",
    "\n",
    "maior_preco = preco1\n",
    "menor_preco = preco1\n",
    "\n",
    "if preco2 > maior_preco:\n",
    "    maior_preco = preco2\n",
    "if preco2 < menor_preco:\n",
    "    menor_preco = preco2\n",
    "\n",
    "if preco3 > maior_preco:\n",
    "    maior_preco = preco3\n",
    "if preco3 < menor_preco:\n",
    "    menor_preco = preco3\n",
    "\n",
    "print(f\"\\nO maior valor entre os três anos foi: R$ {maior_preco:.2f}\")\n",
    "print(f\"O menor valor entre os três anos foi: R$ {menor_preco:.2f}\")"
   ]
  },
  {
   "cell_type": "code",
   "execution_count": null,
   "metadata": {},
   "outputs": [],
   "source": [
    "# Simplificado...\n",
    "preco1 = float(input(\"Digite o preço médio do primeiro ano: R$ \"))\n",
    "preco2 = float(input(\"Digite o preço médio do segundo ano: R$ \"))\n",
    "preco3 = float(input(\"Digite o preço médio do terceiro ano: R$ \"))\n",
    "\n",
    "maior_preco = max(preco1, preco2, preco3)\n",
    "menor_preco = min(preco1, preco2, preco3)\n",
    "\n",
    "print(f\"\\nO maior valor entre os três anos foi: R$ {maior_preco:.2f}\")\n",
    "print(f\"O menor valor entre os três anos foi: R$ {menor_preco:.2f}\")\n"
   ]
  },
  {
   "cell_type": "markdown",
   "metadata": {
    "id": "jY5tIwd-HQzc"
   },
   "source": [
    "#### Questão 5\n",
    "Escreva um programa que pergunte sobre o preço de três produtos e indique qual é o produto mais barato para comprar."
   ]
  },
  {
   "cell_type": "code",
   "execution_count": null,
   "metadata": {
    "id": "sYqNh9df-0gk"
   },
   "outputs": [],
   "source": [
    "preco1 = float(input(\"Digite o preço do primeiro produto: \"))\n",
    "preco2 = float(input(\"Digite o preço do segundo produto: \"))\n",
    "preco3 = float(input(\"Digite o preço do terceiro produto: \"))\n",
    "\n",
    "if preco1 < preco2 and preco1 < preco3:\n",
    "    print(\"Você deve comprar o primeiro produto.\")\n",
    "elif preco2 < preco1 and preco2 < preco3:\n",
    "    print(\"Você deve comprar o segundo produto.\")\n",
    "else:\n",
    "    print(\"Você deve comprar o terceiro produto.\")\n"
   ]
  },
  {
   "cell_type": "markdown",
   "metadata": {
    "id": "1r6aVxtTHR4E"
   },
   "source": [
    "#### Questão 6 (anotação inclusa)\n",
    "Escreva um programa que leia três números e os exiba em ordem decrescente."
   ]
  },
  {
   "cell_type": "code",
   "execution_count": null,
   "metadata": {
    "id": "ydOCYUMO-0Hk"
   },
   "outputs": [],
   "source": [
    "num1 = float(input(\"Digite o primeiro número: \"))\n",
    "num2 = float(input(\"Digite o segundo número: \"))\n",
    "num3 = float(input(\"Digite o terceiro número: \"))\n",
    "\n",
    "if num1 >= num2 and num1 >= num3:\n",
    "    if num2 >= num3:\n",
    "        print(num1, num2, num3)\n",
    "    else:\n",
    "        print(num1, num3, num2)\n",
    "\n",
    "elif num2 >= num1 and num2 >= num3:\n",
    "    if num1 >= num3:\n",
    "        print(num2, num1, num3)\n",
    "    else:\n",
    "        print(num2, num3, num1)\n",
    "\n",
    "else:\n",
    "    if num1 >= num2:\n",
    "        print(num3, num1, num2)\n",
    "    else:\n",
    "        print(num3, num2, num1)\n"
   ]
  },
  {
   "cell_type": "markdown",
   "metadata": {
    "id": "inW3F-hAHS_X"
   },
   "source": [
    "#### Questão 7\n",
    "Escreva um programa que pergunte em qual turno a pessoa usuária estuda (\"manhã\", \"tarde\" ou \"noite\") e exiba a mensagem \"Bom Dia!\", \"Boa Tarde!\", \"Boa Noite!\", ou \"Valor Inválido!\", conforme o caso."
   ]
  },
  {
   "cell_type": "code",
   "execution_count": 5,
   "metadata": {
    "id": "-_q-Pcr_-zth"
   },
   "outputs": [
    {
     "name": "stdout",
     "output_type": "stream",
     "text": [
      "Bom dia!\n"
     ]
    }
   ],
   "source": [
    "turno = input('Qual turno você estuda? ').lower()\n",
    "if turno == 'manhã':\n",
    "    print('Bom dia!')\n",
    "elif turno == 'tarde':\n",
    "    print('Boa tarde!')\n",
    "elif turno == 'noite':\n",
    "    print('Boa noite!')\n",
    "else:\n",
    "    print('Valor inválido!')"
   ]
  },
  {
   "cell_type": "markdown",
   "metadata": {
    "id": "NCCPF3QqHTw-"
   },
   "source": [
    "#### Questão 8\n",
    "Escreva um programa que peça um número inteiro à pessoa usuária e determine se ele é par ou ímpar. Dica: Você pode utilizar o operador módulo `%`."
   ]
  },
  {
   "cell_type": "code",
   "execution_count": 7,
   "metadata": {
    "id": "OmZJt1nQ-3e6"
   },
   "outputs": [
    {
     "name": "stdout",
     "output_type": "stream",
     "text": [
      "Número ímpar!\n"
     ]
    }
   ],
   "source": [
    "numero = int(input('Digite um número inteiro: '))\n",
    "if numero % 2 == 0:\n",
    "    print('Número par!')\n",
    "else:\n",
    "    print('Número ímpar!')"
   ]
  },
  {
   "cell_type": "markdown",
   "metadata": {
    "id": "h93Ck1tQHUwE"
   },
   "source": [
    "#### Questão 9\n",
    "Escreva um programa que peça um número à pessoa usuária e informe se ele é inteiro ou decimal.\n",
    "\n",
    "- Podemos usar o operador de módulo % para determinar se um número é inteiro ou decimal. Se o operador de módulo % retornar zero da divisão inteira de um número por 1, então ele é inteiro. Se não for, ele é decimal."
   ]
  },
  {
   "cell_type": "code",
   "execution_count": 10,
   "metadata": {
    "id": "sLMlZcx8-20N"
   },
   "outputs": [
    {
     "name": "stdout",
     "output_type": "stream",
     "text": [
      "O número é inteiro.\n"
     ]
    }
   ],
   "source": [
    "numero = float(input('Digite um número: '))\n",
    "\n",
    "if numero % 1 == 0:\n",
    "    print('O número é inteiro.')\n",
    "else:\n",
    "    print('O número é decimal.')"
   ]
  },
  {
   "cell_type": "markdown",
   "metadata": {
    "id": "bKdXSK1SH_pF"
   },
   "source": [
    "### Momento dos projetos"
   ]
  },
  {
   "cell_type": "markdown",
   "metadata": {
    "id": "WBlEyyzsHV86"
   },
   "source": [
    "#### Questão 10\n",
    "Um programa deve ser escrito para ler dois números e, em seguida, perguntar à pessoa usuária qual operação ele deseja realizar. O resultado da operação deve incluir informações sobre o número - se é par ou ímpar, positivo ou negativo e inteiro ou decimal."
   ]
  },
  {
   "cell_type": "code",
   "execution_count": 17,
   "metadata": {
    "id": "3jmahZ0f-2gq"
   },
   "outputs": [
    {
     "name": "stdout",
     "output_type": "stream",
     "text": [
      "Resultado da soma de 2.0 e 2.0 = 4.0\n",
      "Número par!\n",
      "O número é inteiro.\n",
      "O resultado é positivo.\n"
     ]
    }
   ],
   "source": [
    "# Coletamos os números a serem operados e solicitamos a operação desejada pela pessoa usuária\n",
    "numero1 = float(input('Digite o primeiro número: '))\n",
    "numero2 = float(input('Digite o segundo número: '))\n",
    "operacao = input('Qual operação você deseja realizar? (Opções: + (soma), - (subtração), * (multiplicação), / (divisão))')\n",
    "if operacao == '+':\n",
    "    resultado = numero1 + numero2\n",
    "    print(f'Resultado da soma de {numero1} e {numero2} = {resultado}')\n",
    "elif operacao == '-':\n",
    "    resultado = numero1 - numero2\n",
    "    print(f'Resultado da subtração de {numero1} e {numero2} = {resultado}')\n",
    "elif operacao == '*':\n",
    "    resultado = numero1 * numero2\n",
    "    print(f'Resultado da multiplicação de {numero1} e {numero2} = {resultado}')\n",
    "elif operacao == '/':\n",
    "    resultado = numero1 / numero2\n",
    "    print(f'Resultado da divisão de {numero1} e {numero2} = {resultado}')\n",
    "else:\n",
    "    print('Operação inválida! Resultado = 0')\n",
    "    resultado = 0\n",
    "\n",
    "# verificar se é ímpar ou par:\n",
    "if resultado % 2 == 0:\n",
    "    print('Número par!')\n",
    "else:\n",
    "    print('Número ímpar!')\n",
    "\n",
    "# verificar se é inteiro ou decimal:\n",
    "if resultado % 1 == 0:\n",
    "    print('O número é inteiro.')\n",
    "else:\n",
    "    print('O número é decimal.')\n",
    "\n",
    "# verificar se é positivo ou negativo:\n",
    "if resultado > 0:\n",
    "    print('O resultado é positivo.')\n",
    "elif resultado == 0:\n",
    "    print('O resultado é neutro.')\n",
    "else:\n",
    "    print('O resultado é negativo.')"
   ]
  },
  {
   "cell_type": "markdown",
   "metadata": {
    "id": "VdnlULxHHW19"
   },
   "source": [
    "#### Questão 11\n",
    "Escreva um programa que peça à pessoa usuária três números que representam os lados de um triângulo. O programa deve informar se os valores podem ser utilizados para formar um triângulo e, caso afirmativo, se ele é equilátero, isósceles ou escaleno. Tenha em mente algumas dicas:\n",
    "- Três lados formam um triângulo quando a soma de quaisquer dois lados for maior que o terceiro;\n",
    "- Triângulo Equilátero: três lados iguais;\n",
    "- Triângulo Isósceles: quaisquer dois lados iguais;\n",
    "- Triângulo Escaleno: três lados diferentes;\n"
   ]
  },
  {
   "cell_type": "code",
   "execution_count": null,
   "metadata": {
    "id": "0z73sqUO-2Pw"
   },
   "outputs": [],
   "source": [
    "# Coletamos os lados de um triângulo\n",
    "print('Coletaremos os lados de um triângulo.')\n",
    "lado1 = float(input('Digite o comprimento do primeiro lado: '))\n",
    "lado2 = float(input('Digite o comprimento do segundo lado: '))\n",
    "lado3 = float(input('Digite o comprimento do terceiro lado: '))\n",
    "\n",
    "# Verificamos de os lados formam um triângulo\n",
    "if (lado1 + lado2 > lado3) and (lado2 + lado3 > lado1) and (lado1 + lado3 > lado2):\n",
    "    print('Os valores podem formar um triângulo!')\n",
    "    # comparamos os lados para verificar o tipo de triângulo\n",
    "    if (lado1 == lado2) and (lado2 == lado3):\n",
    "        print('O triângulo é equilátero.')\n",
    "    elif (lado1 != lado2) and (lado2 != lado3) and (lado1 != lado3):\n",
    "        print('O triângulo é escaleno.')\n",
    "    else:\n",
    "        print('O triângulo é isósceles.')\n",
    "else:\n",
    "    print('Os valores não podem formar um triângulo!')"
   ]
  },
  {
   "cell_type": "markdown",
   "metadata": {
    "id": "_PpEpOugHXwZ"
   },
   "source": [
    "#### Questão 12\n",
    "Um estabelecimento está vendendo combustíveis com descontos variados. Para o etanol, se a quantidade comprada for até 15 litros, o desconto será de 2% por litro. Caso contrário, será de 4% por litro. Para o diesel, se a quantidade comprada for até 15 litros, o desconto será de 3% por litro. Caso contrário, será de 5% por litro. O preço do litro de diesel é R\\$ 2,00 e o preço do litro de etanol é R\\$ 1,70. Escreva um programa que leia a quantidade de litros vendidos e o tipo de combustível (E para etanol e D para diesel) e calcule o valor a ser pago pelo cliente. Tenha em mente algumas dicas:\n",
    "\n",
    "- O do valor do desconto será a multiplicação entre preço do litro, quantidade de litros e o valor do desconto.\n",
    "- O valor a ser pago por um cliente será o resultado da multiplicação do preço do litro pela quantidade de litros menos o valor de desconto resultante do cálculo.\n"
   ]
  },
  {
   "cell_type": "code",
   "execution_count": null,
   "metadata": {
    "id": "9izoF-0O-1yD"
   },
   "outputs": [],
   "source": [
    "litros = float(input(\"Digite a quantidade de litros vendidos: \"))\n",
    "tipo = input(\"Digite o tipo de combustível (E para Etanol, D para Diesel): \").upper()\n",
    "\n",
    "preco_etanol = 1.70\n",
    "preco_diesel = 2.00\n",
    "\n",
    "if tipo == 'E':\n",
    "    preco_litro = preco_etanol\n",
    "    if litros <= 15:\n",
    "        desconto_porcentagem = 0.02\n",
    "    else:\n",
    "        desconto_porcentagem = 0.04\n",
    "elif tipo == 'D':\n",
    "    preco_litro = preco_diesel\n",
    "    if litros <= 15:\n",
    "        desconto_porcentagem = 0.03\n",
    "    else:\n",
    "        desconto_porcentagem = 0.05\n",
    "else:\n",
    "    print(\"Tipo de combustível inválido.\")\n",
    "    exit()\n",
    "\n",
    "valor_bruto = preco_litro * litros\n",
    "valor_desconto = valor_bruto * desconto_porcentagem\n",
    "valor_final = valor_bruto - valor_desconto\n",
    "\n",
    "print(f\"Valor a ser pago pelo cliente: R$ {valor_final:.2f}\")\n"
   ]
  },
  {
   "cell_type": "markdown",
   "metadata": {
    "id": "s_XS_D1WHY2R"
   },
   "source": [
    "#### Questão 13\n",
    "Em uma empresa de venda de imóveis você precisa criar um código que analise os dados de vendas anuais para ajudar a diretoria na tomada de decisão. O código precisa coletar os dados de quantidade de venda durante os anos de 2022 e 2023 e fazer um cálculo de variação percentual. A partir do valor da variação, deve ser enviada às seguintes sugestões:\n",
    "- Para variação acima de 20%: bonificação para o time de vendas.\n",
    "- Para variação entre 2% e 20%: pequena bonificação para time de vendas.\n",
    "- Para variação entre 2% e -10%: planejamento de políticas de incentivo às vendas.\n",
    "- Para bonificações abaixo de -10%: corte de gastos.\n"
   ]
  },
  {
   "cell_type": "code",
   "execution_count": null,
   "metadata": {
    "id": "avQrYlUg-w8f"
   },
   "outputs": [],
   "source": [
    "venda_2022 = float(input('Digite a quantidade de vendas em 2022: '))\n",
    "venda_2023 = float(input('Digite a quantidade de vendas em 2023: '))\n",
    "\n",
    "var_percentual = 100 * (venda_2023 - venda_2022) / (venda_2022)\n",
    "\n",
    "# Análise condicional da variação percentual para determinar a sugestão a ser enviada\n",
    "if var_percentual > 20:\n",
    "    print('Bonificação para o time de vendas.')\n",
    "elif 2 <= var_percentual <= 20:\n",
    "    print('Pequena bonificação para time de vendas.')\n",
    "elif -10 <= var_percentual < 2:\n",
    "    print('Planejamento de políticas de incentivo às vendas.')\n",
    "else:\n",
    "    print('Corte de gastos.')"
   ]
  },
  {
   "cell_type": "markdown",
   "metadata": {
    "id": "AuaWh4-d2Itt"
   },
   "source": [
    "## Aula 4 - Estruturas de repetição"
   ]
  },
  {
   "cell_type": "markdown",
   "metadata": {
    "id": "6MSqU0sIJRdD"
   },
   "source": [
    "### Aquecendo na programação"
   ]
  },
  {
   "cell_type": "markdown",
   "metadata": {
    "id": "9eGGyCnAJRdQ"
   },
   "source": [
    "#### Questão 1\n",
    "Escreva um programa que peça dois números inteiros e imprima todos os números inteiros entre eles."
   ]
  },
  {
   "cell_type": "code",
   "execution_count": null,
   "metadata": {
    "id": "ID1oc1hxJRdQ"
   },
   "outputs": [],
   "source": [
    "numero1 = int(input('Digite o primeiro número: '))\n",
    "numero2 = int(input('Digite o segundo número: '))\n",
    "\n",
    "if numero1 < numero2:\n",
    "    for i in range(numero1, numero2 + 1):\n",
    "        print(i)\n",
    "elif numero1 > numero2:\n",
    "    for i in range(numero1, numero2 - 1, -1):\n",
    "        print(i)\n",
    "else:\n",
    "    print(\"Os dois números são iguais:\", numero1)"
   ]
  },
  {
   "cell_type": "markdown",
   "metadata": {
    "id": "mGonEHYCJRdR"
   },
   "source": [
    "#### Questão 2\n",
    "Escreva um programa para calcular quantos dias levará para a colônia de uma bactéria A ultrapassar ou igualar a colônia de uma bactéria B, com base nas taxas de crescimento de 3% e 1,5% respectivamente. Considere que a colônia A inicia com 4 elementos e a colônia B com 10 elementos."
   ]
  },
  {
   "cell_type": "code",
   "execution_count": null,
   "metadata": {
    "id": "wM6FJuoqJRdR"
   },
   "outputs": [],
   "source": [
    "# número inicial de bactérias\n",
    "colonia_a = 4\n",
    "colonia_b = 10\n",
    "\n",
    "# taxas de crescimento das colônias\n",
    "taxa_a = 0.03\n",
    "taxa_b = 0.015\n",
    "\n",
    "# contador de dias\n",
    "dias = 0\n",
    "\n",
    "# A condição que finaliza o laço é o caso em que\n",
    "# a colônia A ultrapasse a colônia B\n",
    "while colonia_a <= colonia_b:\n",
    "  # usamos um operador de atribuição com multiplicação\n",
    "  colonia_a *= 1 + taxa_a\n",
    "  colonia_b *= 1 + taxa_b\n",
    "  # contamos o dia para cada iteração\n",
    "  dias += 1\n",
    "\n",
    "# resultado final\n",
    "print(f'Irá levar {dias} dias para a colônia A ultrapassar a colônia B.')"
   ]
  },
  {
   "cell_type": "markdown",
   "metadata": {
    "id": "UiOZRlqoJRdR"
   },
   "source": [
    "#### Questão 3\n",
    "Para tratar uma quantidade de 15 dados de avaliações de pessoas usuárias de um serviço da empresa, precisamos verificar se as notas são válidas. Então, escreva um programa que vai receber a nota de 0 a 5 de todos os dados e verificar se é um valor válido. Caso seja inserido uma nota acima de 5 ou abaixo de 0, repita até que a pessoa usuária insira um valor válido."
   ]
  },
  {
   "cell_type": "code",
   "execution_count": null,
   "metadata": {
    "id": "3TUAhCxcJRdR"
   },
   "outputs": [],
   "source": []
  },
  {
   "cell_type": "markdown",
   "metadata": {
    "id": "ABv3KObGJRdR"
   },
   "source": [
    "#### Questão 4\n",
    "Desenvolva um programa que leia um conjunto indeterminado de temperaturas em Celsius e faça uma análise. Portanto, escreva um programa que leia temperaturas e informe a média delas. A leitura deve ser encerrada ao ser enviado o valor -273°C."
   ]
  },
  {
   "cell_type": "code",
   "execution_count": null,
   "metadata": {
    "id": "85tBBj5KJRdS"
   },
   "outputs": [],
   "source": []
  },
  {
   "cell_type": "markdown",
   "metadata": {
    "id": "IjkbAfGcJRdS"
   },
   "source": [
    "#### Questão 5\n",
    "Escreva um programa que calcule o fatorial de um número inteiro fornecido pela pessoa usuária. O fatorial de um número inteiro é a multiplicação desse número por todos os seus antecessores até o número 1. Por exemplo, o fatorial de 5 é 5 x 4 x 3 x 2 x 1 = 120."
   ]
  },
  {
   "cell_type": "code",
   "execution_count": null,
   "metadata": {
    "id": "7RTH8o0HJRdS"
   },
   "outputs": [],
   "source": []
  },
  {
   "cell_type": "markdown",
   "metadata": {
    "id": "oGNKuQjsJRdT"
   },
   "source": [
    "### Momento dos projetos"
   ]
  },
  {
   "cell_type": "markdown",
   "metadata": {
    "id": "ODxaTUYmJRdS"
   },
   "source": [
    "#### Questão 6\n",
    "Escreva um programa que gere a tabuada de um número inteiro de 1 a 10, de acordo com a escolha da pessoa usuária. Como exemplo, para o número 2, a tabuada deve ser mostrada no seguinte formato:\n",
    "```\n",
    "Tabuada do 2:\n",
    "2 x 1 = 2\n",
    "2 x 2 = 4\n",
    "[...]\n",
    "2 x 10 = 20\n",
    "```"
   ]
  },
  {
   "cell_type": "code",
   "execution_count": null,
   "metadata": {
    "id": "lkTlbxPIJRdS"
   },
   "outputs": [],
   "source": []
  },
  {
   "cell_type": "markdown",
   "metadata": {
    "id": "LeIbnt8VJRdS"
   },
   "source": [
    "#### Questão 7\n",
    "Os números primos possuem várias aplicações dentro da Ciência de Dados, por exemplo, na criptografia e segurança. Um número primo é aquele que é divisível apenas por um e por ele mesmo. Faça um programa que peça um número inteiro e determine se ele é ou não um número primo."
   ]
  },
  {
   "cell_type": "code",
   "execution_count": null,
   "metadata": {
    "id": "2rcNU7twJRdS"
   },
   "outputs": [],
   "source": []
  },
  {
   "cell_type": "markdown",
   "metadata": {
    "id": "QTwb6QaCJRdT"
   },
   "source": [
    "#### Questão 8\n",
    "Vamos entender a distribuição de idades de pensionistas de uma empresa de previdência. Escreva um programa que leia as idades de uma quantidade não informada de clientes e mostre a distribuição em intervalos de [0-25], [26-50], [51-75] e [76-100]. Encerre a entrada de dados com um número negativo."
   ]
  },
  {
   "cell_type": "code",
   "execution_count": null,
   "metadata": {
    "id": "4IAhaDmYJRdT"
   },
   "outputs": [],
   "source": []
  },
  {
   "cell_type": "markdown",
   "metadata": {
    "id": "soJCQVwRJRdT"
   },
   "source": [
    "#### Questão 9\n",
    "Em uma eleição para gerência em uma empresa com 20 funcionários, existem quatro candidatos. Escreva um programa que calcule o vencedor da eleição. A votação ocorreu da seguinte maneira:\n",
    "- Cada funcionário votou em um dos quatro candidatos (representados pelos números 1, 2, 3 e 4).\n",
    "- Também foram contabilizados os votos nulos (representado pelo número 5) e os votos em branco (representado pelo número 6).\n",
    "\n",
    "Ao final da votação, o programa deve exibir o total de votos para cada candidato, o número de votos nulos e o número de votos em branco. Além disso, deve calcular e exibir a porcentagem de votos nulos em relação ao total de votos e a porcentagem de votos em branco em relação ao total de votos."
   ]
  },
  {
   "cell_type": "code",
   "execution_count": null,
   "metadata": {
    "id": "041EFrgG-4gR"
   },
   "outputs": [],
   "source": []
  },
  {
   "cell_type": "markdown",
   "metadata": {
    "id": "eijHQiNU2IZ7"
   },
   "source": [
    "## Aula 5 - Estruturas de dados"
   ]
  },
  {
   "cell_type": "markdown",
   "metadata": {
    "id": "92F0bKtBMgd7"
   },
   "source": [
    "### Aquecendo na programação"
   ]
  },
  {
   "cell_type": "markdown",
   "metadata": {
    "id": "IypX2ANuMgeC"
   },
   "source": [
    "#### Questão 1\n",
    "Faça um programa que tenha a seguinte lista contendo os valores de gastos de uma empresa de papel `[2172.54, 3701.35, 3518.09, 3456.61, 3249.38, 2840.82, 3891.45, 3075.26, 2317.64, 3219.08]`. Com esses valores, faça um programa que calcule a média de gastos. Dica, use as funções built-in [`sum()`](https://docs.python.org/3/library/functions.html#sum) e [`len()`](https://docs.python.org/3/library/functions.html#len)."
   ]
  },
  {
   "cell_type": "code",
   "execution_count": null,
   "metadata": {
    "id": "ge3LuFhLMgeD"
   },
   "outputs": [],
   "source": []
  },
  {
   "cell_type": "markdown",
   "metadata": {
    "id": "xrOeLhQkMgeD"
   },
   "source": [
    "#### Questão 2\n",
    " Com os mesmos dados da questão anterior, defina quantas compras foram acima de 3000 reais e calcule a porcentagem quanto ao total de compras."
   ]
  },
  {
   "cell_type": "code",
   "execution_count": null,
   "metadata": {
    "id": "Ygu5TMZyMgeD"
   },
   "outputs": [],
   "source": []
  },
  {
   "cell_type": "markdown",
   "metadata": {
    "id": "JgCOrE_BMgeD"
   },
   "source": [
    "#### Questão 3\n",
    "Faça um código que colete em uma lista 5 números inteiros quaisquer e imprima a lista. Exemplo: `[1,4,7,2,4]`."
   ]
  },
  {
   "cell_type": "code",
   "execution_count": null,
   "metadata": {
    "id": "vtM9O1hLMgeD"
   },
   "outputs": [],
   "source": []
  },
  {
   "cell_type": "markdown",
   "metadata": {
    "id": "p3bTp88HMgeD"
   },
   "source": [
    "#### Questão 4\n",
    "Colete novamente 5 inteiros e imprima a lista em ordem inversa à enviada."
   ]
  },
  {
   "cell_type": "code",
   "execution_count": null,
   "metadata": {
    "id": "-CGwMIyHMgeD"
   },
   "outputs": [],
   "source": []
  },
  {
   "cell_type": "markdown",
   "metadata": {
    "id": "eIXd_z1lMgeD"
   },
   "source": [
    "#### Questão 5\n",
    "Faça um programa que, ao inserir um número qualquer, criará uma lista contendo todos os números primos entre 1 e o número digitado."
   ]
  },
  {
   "cell_type": "code",
   "execution_count": null,
   "metadata": {
    "id": "rj_6GHstMgeE"
   },
   "outputs": [],
   "source": []
  },
  {
   "cell_type": "markdown",
   "metadata": {
    "id": "zrbz3ENlMgeE"
   },
   "source": [
    "#### Questão 6\n",
    "Escreva um programa que peça uma data informando o dia, mês e ano e determine se ela é uma data válida para uma análise."
   ]
  },
  {
   "cell_type": "code",
   "execution_count": null,
   "metadata": {
    "id": "0eYA8UjTMgeE"
   },
   "outputs": [],
   "source": []
  },
  {
   "cell_type": "markdown",
   "metadata": {
    "id": "ut_4VHdGMgeE"
   },
   "source": [
    "### Momento dos projetos"
   ]
  },
  {
   "cell_type": "markdown",
   "metadata": {
    "id": "G86Z0vD_MgeE"
   },
   "source": [
    "#### Questão 7\n",
    "Para um estudo envolvendo o nível de multiplicação de bactérias em uma colônia, foi coletado o número de bactérias multiplicadas por dia, com base em um processo de duplicação diária e pode ser observado a seguir: `[1.2, 2.1, 3.3, 5.0, 7.8, 11.3, 16.6, 25.1, 37.8, 56.9]`. Tendo esses valores, faça um código que gere uma lista contendo o percentual de crescimento de bactérias por dia, comparando o número de bactérias em cada dia com o número de bactérias do dia anterior. Dica: para calcular o percentual de crescimento usamos a seguinte equação: `100 * (amostra_atual - amostra_passada) / (amostra_passada)`."
   ]
  },
  {
   "cell_type": "code",
   "execution_count": null,
   "metadata": {
    "id": "PXNO_CFkMgeE"
   },
   "outputs": [],
   "source": []
  },
  {
   "cell_type": "markdown",
   "metadata": {
    "id": "p4nxogpnMgeE"
   },
   "source": [
    "#### Questão 8\n",
    "Para uma seleção de produtos alimentícios, precisamos separar o conjunto de IDs dados por números inteiros, sabendo que os produtos com ID par são doces e os com ID ímpar são amargos. Monte um código que colete 10 IDs. Depois, calcule e mostre a quantidade de produtos doces e amargos."
   ]
  },
  {
   "cell_type": "code",
   "execution_count": null,
   "metadata": {
    "id": "WqjO2SZkMgeE"
   },
   "outputs": [],
   "source": []
  },
  {
   "cell_type": "markdown",
   "metadata": {
    "id": "t5OrLxV6MgeE"
   },
   "source": [
    "#### Questão 9\n",
    "Desenvolva um programa que informa a nota de um aluno de acordo com suas respostas. Ele deve pedir a resposta de um aluno para cada questão e é preciso verificar se a resposta foi igual ao gabarito. Cada questão vale um ponto e existem alternativas:  A, B, C ou D.\n",
    "```\n",
    "Gabarito da Prova:\n",
    "01 - D\n",
    "02 - A\n",
    "03 - C\n",
    "04 - B\n",
    "05 - A\n",
    "06 - D\n",
    "07 - C\n",
    "08 - C\n",
    "09 - A\n",
    "10 - B\n",
    "```"
   ]
  },
  {
   "cell_type": "code",
   "execution_count": null,
   "metadata": {
    "id": "ytIQDJrQMgeE"
   },
   "outputs": [],
   "source": []
  },
  {
   "cell_type": "markdown",
   "metadata": {
    "id": "aSBMzh-AMgeF"
   },
   "source": [
    "#### Questão 10\n",
    "Um instituto de meteorologia deseja fazer um estudo de temperatura média de cada mês do ano. Para isso, você precisa fazer um código que colete e armazene essas temperaturas médias em uma lista. Depois, calcule a média anual das temperaturas e mostre todas as temperaturas acima da média anual, e em que mês elas ocorreram, mostrando os meses por extenso: Janeiro, Fevereiro, etc."
   ]
  },
  {
   "cell_type": "code",
   "execution_count": null,
   "metadata": {
    "id": "ftj04s2uMgeF"
   },
   "outputs": [],
   "source": []
  },
  {
   "cell_type": "markdown",
   "metadata": {
    "id": "0X8S6s4jMgeF"
   },
   "source": [
    "#### Questão 11\n",
    "Uma empresa de e-commerce está interessada em analisar as vendas dos seus produtos. Os dados das vendas foram armazenados em um dicionário:\n",
    "```\n",
    "{'Produto A': 300, 'Produto B': 80, 'Produto C': 60,\n",
    " 'Produto D': 200, 'Produto E': 250, 'Produto F': 30}\n",
    "```\n",
    "Escreva um código que calcule o total de vendas e o produto mais vendido."
   ]
  },
  {
   "cell_type": "code",
   "execution_count": null,
   "metadata": {
    "id": "Xa3DJLtFMgeF"
   },
   "outputs": [],
   "source": []
  },
  {
   "cell_type": "markdown",
   "metadata": {
    "id": "nrEwf_1ZMgeF"
   },
   "source": [
    "#### Questão 12\n",
    "Uma pesquisa de mercado foi feita para decidir qual design de uma marca infantil mais agrada crianças. A pesquisa foi feita e o votos computados podem ser observados abaixo:\n",
    "```\n",
    "'''\n",
    "Tabela de votos da marca\n",
    "Design 1 - 1334 votos\n",
    "Design 2 - 982 votos\n",
    "Design 3 - 1751 votos\n",
    "Design 4 - 210 votos\n",
    "Design 5 - 1811 votos\n",
    "'''\n",
    "```\n",
    "Adapte os dados fornecidos a você para uma estrutura de dicionário e a partir dele, informe o design vencedor e a porcentagem de votos recebidos.\n"
   ]
  },
  {
   "cell_type": "code",
   "execution_count": null,
   "metadata": {
    "id": "MRPcGR-_MgeF"
   },
   "outputs": [],
   "source": []
  },
  {
   "cell_type": "markdown",
   "metadata": {
    "id": "HRTFFzKIMgeF"
   },
   "source": [
    "#### Questão 13\n",
    "Os funcionários de um setor da empresa que você trabalha vão receber um abono correspondente a 10% do seu salário devido ao ótimo desempenho do time. O setor financeiro solicitou sua ajuda para a verificação das consequências financeiras que esse abono irá gerar nos recursos. Assim, foi encaminhada para você uma lista com os salários que receberão o abono: `[1172, 1644, 2617, 5130, 5532, 6341, 6650, 7238, 7685, 7782, 7903]`. O abono de cada funcionário não pode ser inferior a 200. Em código, transforme cada um dos salários em chaves de um dicionário e o abono de cada salário no elemento. Depois, informe o total de gastos com o abono, quantos funcionários receberam o abono mínimo e qual o maior valor de abono fornecido.\n"
   ]
  },
  {
   "cell_type": "code",
   "execution_count": 2,
   "metadata": {},
   "outputs": [
    {
     "name": "stdout",
     "output_type": "stream",
     "text": [
      "Dicionário de abonos:\n",
      "Salário: R$1172.00 - Abono: R$200.00\n",
      "Salário: R$1644.00 - Abono: R$200.00\n",
      "Salário: R$2617.00 - Abono: R$261.70\n",
      "Salário: R$5130.00 - Abono: R$513.00\n",
      "Salário: R$5532.00 - Abono: R$553.20\n",
      "Salário: R$6341.00 - Abono: R$634.10\n",
      "Salário: R$6650.00 - Abono: R$665.00\n",
      "Salário: R$7238.00 - Abono: R$723.80\n",
      "Salário: R$7685.00 - Abono: R$768.50\n",
      "Salário: R$7782.00 - Abono: R$778.20\n",
      "Salário: R$7903.00 - Abono: R$790.30\n",
      "\n",
      "Total de gastos com abonos: R$6087.80\n",
      "Quantidade de funcionários que receberam o abono mínimo: 2\n",
      "Maior valor de abono concedido: R$790.30\n"
     ]
    }
   ],
   "source": [
    "salarios = [1172, 1644, 2617, 5130, 5532, 6341, 6650, 7238, 7685, 7782, 7903]\n",
    "abonos = {}\n",
    "for salario in salarios:\n",
    "    abono = salario * 0.10\n",
    "    if abono < 200:\n",
    "        abono = 200\n",
    "    abonos[salario] = abono\n",
    "\n",
    "total_gasto = sum(abonos.values())\n",
    "qtd_abono_minimo = list(abonos.values()).count(200)\n",
    "maior_abono = max(abonos.values())\n",
    "\n",
    "print(\"Dicionário de abonos:\")\n",
    "for salario, abono in abonos.items():\n",
    "    print(f\"Salário: R${salario:.2f} - Abono: R${abono:.2f}\")\n",
    "\n",
    "print(f\"\\nTotal de gastos com abonos: R${total_gasto:.2f}\")\n",
    "print(f\"Quantidade de funcionários que receberam o abono mínimo: {qtd_abono_minimo}\")\n",
    "print(f\"Maior valor de abono concedido: R${maior_abono:.2f}\")\n"
   ]
  },
  {
   "cell_type": "code",
   "execution_count": 1,
   "metadata": {
    "id": "QsDSCua42bLB"
   },
   "outputs": [
    {
     "name": "stdout",
     "output_type": "stream",
     "text": [
      "Dicionário de abonos:\n",
      "Salário: R$1172.00 - Abono: R$200.00\n",
      "Salário: R$1644.00 - Abono: R$200.00\n",
      "Salário: R$2617.00 - Abono: R$261.70\n",
      "Salário: R$5130.00 - Abono: R$513.00\n",
      "Salário: R$5532.00 - Abono: R$553.20\n",
      "Salário: R$6341.00 - Abono: R$634.10\n",
      "Salário: R$6650.00 - Abono: R$665.00\n",
      "Salário: R$7238.00 - Abono: R$723.80\n",
      "Salário: R$7685.00 - Abono: R$768.50\n",
      "Salário: R$7782.00 - Abono: R$778.20\n",
      "Salário: R$7903.00 - Abono: R$790.30\n",
      "\n",
      "Total de gastos com abonos: R$6087.80\n",
      "Quantidade de funcionários que receberam o abono mínimo: 2\n",
      "Maior valor de abono concedido: R$790.30\n"
     ]
    }
   ],
   "source": [
    "salarios = [1172, 1644, 2617, 5130, 5532, 6341, 6650, 7238, 7685, 7782, 7903]\n",
    "\n",
    "abonos = {}\n",
    "total_gasto = 0\n",
    "qtd_abono_minimo = 0\n",
    "maior_abono = 0\n",
    "\n",
    "for salario in salarios:\n",
    "    abono = salario * 0.10\n",
    "    if abono < 200:\n",
    "        abono = 200\n",
    "\n",
    "    abonos[salario] = abono\n",
    "\n",
    "    # Soma total dos abonos\n",
    "    total_gasto = total_gasto + abono\n",
    "\n",
    "    # Contar abonos mínimos\n",
    "    if abono == 200:\n",
    "        qtd_abono_minimo = qtd_abono_minimo + 1\n",
    "\n",
    "    # Descobrir o maior abono\n",
    "    if abono > maior_abono:\n",
    "        maior_abono = abono\n",
    "\n",
    "# Exibição dos resultados\n",
    "print(\"Dicionário de abonos:\")\n",
    "for salario in abonos:\n",
    "    print(f\"Salário: R${salario:.2f} - Abono: R${abonos[salario]:.2f}\")\n",
    "\n",
    "print(f\"\\nTotal de gastos com abonos: R${total_gasto:.2f}\")\n",
    "print(f\"Quantidade de funcionários que receberam o abono mínimo: {qtd_abono_minimo}\")\n",
    "print(f\"Maior valor de abono concedido: R${maior_abono:.2f}\")"
   ]
  },
  {
   "cell_type": "markdown",
   "metadata": {
    "id": "6dEXZEwjMlWy"
   },
   "source": [
    "#### Questão 14\n",
    "Uma equipe de cientistas de dados está estudando a diversidade biológica em uma floresta. A equipe fez a coleta de informações sobre o número de espécies de plantas e animais em cada área da floresta e armazenaram essas informações em um dicionário. Nele, a chave descreve a área dos dados e os valores nas listas correspondem às espécies de plantas e animais nas áreas, respectivamente.\n",
    "```\n",
    "{'Área Norte': [2819, 7236],\n",
    " 'Área Leste': [1440, 9492],\n",
    " 'Área Sul': [5969, 7496],\n",
    " 'Área Oeste': [14446, 49688],\n",
    " 'Área Centro': [22558, 45148]}\n",
    "```\n",
    "Escreva um código para calcular a média de espécies por área e identificar a área com a maior diversidade biológica. Dica: use as funções built-in [`sum()`](https://docs.python.org/3/library/functions.html#sum) e [`len()`](https://docs.python.org/3/library/functions.html#len).\n"
   ]
  },
  {
   "cell_type": "code",
   "execution_count": 3,
   "metadata": {
    "id": "eQnOUDfYMlWy"
   },
   "outputs": [
    {
     "name": "stdout",
     "output_type": "stream",
     "text": [
      "Média de espécies por área:\n",
      "Área Norte: 5027.50 espécies\n",
      "Área Leste: 5466.00 espécies\n",
      "Área Sul: 6732.50 espécies\n",
      "Área Oeste: 32067.00 espécies\n",
      "Área Centro: 33853.00 espécies\n",
      "\n",
      "Área com maior diversidade biológica: Área Centro (67706 espécies)\n"
     ]
    }
   ],
   "source": [
    "dados = {\n",
    "    'Área Norte': [2819, 7236],\n",
    "    'Área Leste': [1440, 9492],\n",
    "    'Área Sul': [5969, 7496],\n",
    "    'Área Oeste': [14446, 49688],\n",
    "    'Área Centro': [22558, 45148]\n",
    "}\n",
    "\n",
    "maior_diversidade = 0\n",
    "area_mais_diversa = \"\"\n",
    "\n",
    "print(\"Média de espécies por área:\")\n",
    "\n",
    "for area, especies in dados.items():\n",
    "    media = sum(especies) / len(especies)\n",
    "    print(f\"{area}: {media:.2f} espécies\")\n",
    "\n",
    "    total_especies = sum(especies)\n",
    "    if total_especies > maior_diversidade:\n",
    "        maior_diversidade = total_especies\n",
    "        area_mais_diversa = area\n",
    "\n",
    "print(f\"\\nÁrea com maior diversidade biológica: {area_mais_diversa} ({maior_diversidade} espécies)\")"
   ]
  },
  {
   "cell_type": "markdown",
   "metadata": {
    "id": "r0RW2Sy_MlWy"
   },
   "source": [
    "#### Questão 15\n",
    "O setor de RH da sua empresa te pediu uma ajuda para analisar as idades dos funcionários de 4 setores da empresa. Para isso, ele te forneceu os seguintes dados:\n",
    "```\n",
    "{'Setor A': [22, 26, 30, 30, 35, 38, 40, 56, 57, 65],\n",
    " 'Setor B': [22, 24, 26, 33, 41, 49, 50, 54, 60, 64],\n",
    " 'Setor C': [23, 26, 26, 29, 34, 35, 36, 41, 52, 56],\n",
    " 'Setor D': [19, 20, 25, 27, 34, 39, 42, 44, 50, 65]}\n",
    "``` \n",
    "Sabendo que cada setor tem 10 funcionários, construa um código que calcule a média de idade de cada setor, a idade média geral entre todos os setores e quantas pessoas estão acima da idade média geral.\n"
   ]
  },
  {
   "cell_type": "code",
   "execution_count": null,
   "metadata": {
    "id": "wCiwyKP3MmTz"
   },
   "outputs": [
    {
     "name": "stdout",
     "output_type": "stream",
     "text": [
      "Média de idade por setor:\n",
      "Setor A: 39.90 anos\n",
      "Setor B: 42.30 anos\n",
      "Setor C: 35.80 anos\n",
      "Setor D: 36.50 anos\n",
      "\n",
      "Média geral de idade: 38.62 anos\n",
      "Quantidade de pessoas acima da média geral: 18\n"
     ]
    }
   ],
   "source": [
    "idades = {\n",
    "    'Setor A': [22, 26, 30, 30, 35, 38, 40, 56, 57, 65],\n",
    "    'Setor B': [22, 24, 26, 33, 41, 49, 50, 54, 60, 64],\n",
    "    'Setor C': [23, 26, 26, 29, 34, 35, 36, 41, 52, 56],\n",
    "    'Setor D': [19, 20, 25, 27, 34, 39, 42, 44, 50, 65]\n",
    "}\n",
    "total_idades = 0\n",
    "total_pessoas = 0\n",
    "todos_os_valores = []\n",
    "\n",
    "print(\"Média de idade por setor:\")\n",
    "\n",
    "for setor, lista in idades.items():\n",
    "    media_setor = sum(lista) / len(lista)\n",
    "    print(f\"{setor}: {media_setor:.2f} anos\")\n",
    "    \n",
    "    total_idades += sum(lista)\n",
    "    total_pessoas += len(lista)\n",
    "    todos_os_valores.extend(lista)\n",
    "\n",
    "media_geral = total_idades / total_pessoas\n",
    "\n",
    "acima_da_media = 0\n",
    "for idade in todos_os_valores:\n",
    "    if idade > media_geral:\n",
    "        acima_da_media += 1\n",
    "\n",
    "print(f\"\\nMédia geral de idade: {media_geral:.2f} anos\")\n",
    "print(f\"Quantidade de pessoas acima da média geral: {acima_da_media}\")\n"
   ]
  }
 ],
 "metadata": {
  "colab": {
   "authorship_tag": "ABX9TyNAcHMa4C+Q6J7M1CkYm1Tn",
   "provenance": [],
   "toc_visible": true
  },
  "kernelspec": {
   "display_name": "Python 3",
   "name": "python3"
  },
  "language_info": {
   "codemirror_mode": {
    "name": "ipython",
    "version": 3
   },
   "file_extension": ".py",
   "mimetype": "text/x-python",
   "name": "python",
   "nbconvert_exporter": "python",
   "pygments_lexer": "ipython3",
   "version": "3.13.0"
  }
 },
 "nbformat": 4,
 "nbformat_minor": 0
}
