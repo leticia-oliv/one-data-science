{
 "cells": [
  {
   "cell_type": "markdown",
   "id": "5d923dac",
   "metadata": {},
   "source": [
    "# Questão 6\n",
    "Escreva um programa que leia três números e os exiba em ordem decrescente."
   ]
  },
  {
   "cell_type": "markdown",
   "id": "2ed23428",
   "metadata": {},
   "source": [
    "## 🧩 Objetivo da Questão\n",
    "Você tem três números e quer exibi-los em ordem decrescente (do maior para o menor), sem usar listas nem funções prontas.\n",
    "\n",
    "### 💡 Passo 1: Se pergunte:\n",
    "O que eu preciso saber para mostrar os três números em ordem decrescente?\n",
    "\n",
    "### 👉 Eu preciso descobrir:\n",
    "\n",
    "- Qual é o maior número.\n",
    "\n",
    "- Qual é o médio (nem o maior, nem o menor).\n",
    "\n",
    "- Qual é o menor número.\n",
    "\n",
    "### 💭 Passo 2: Como posso descobrir quem é o maior?\n",
    "Você pode usar if para comparar os números, assim:"
   ]
  },
  {
   "cell_type": "code",
   "execution_count": null,
   "id": "0c3f9109",
   "metadata": {},
   "outputs": [],
   "source": [
    "if num1 >= num2 and num1 >= num3:\n",
    "    # num1 é o maior"
   ]
  },
  {
   "cell_type": "markdown",
   "id": "b3b4021c",
   "metadata": {},
   "source": [
    "Daí você repete essa lógica pra testar se num2 ou num3 são os maiores, caso num1 não seja."
   ]
  },
  {
   "cell_type": "markdown",
   "id": "a25cfa16",
   "metadata": {},
   "source": [
    "### 🔍 Passo 3: Depois que eu sei quem é o maior...\n",
    "...eu preciso descobrir a ordem dos dois números que sobraram.\n",
    "\n",
    "Se num1 for o maior, aí você precisa comparar num2 e num3, tipo:"
   ]
  },
  {
   "cell_type": "code",
   "execution_count": null,
   "id": "1c8dcd38",
   "metadata": {},
   "outputs": [],
   "source": [
    "if num2 >= num3:\n",
    "    print(num1, num2, num3)  # num2 é o médio, num3 o menor\n",
    "else:\n",
    "    print(num1, num3, num2)  # num3 é o médio, num2 o menor\n"
   ]
  },
  {
   "cell_type": "markdown",
   "id": "64164bbc",
   "metadata": {},
   "source": [
    "### 🧠 Raciocínio completo:\n",
    "Você cria três blocos principais para verificar quem é o maior:"
   ]
  },
  {
   "cell_type": "code",
   "execution_count": null,
   "id": "00058f63",
   "metadata": {},
   "outputs": [],
   "source": [
    "if num1 é o maior:\n",
    "    comparar num2 e num3\n",
    "elif num2 é o maior:\n",
    "    comparar num1 e num3\n",
    "else:\n",
    "    comparar num1 e num2"
   ]
  },
  {
   "cell_type": "markdown",
   "id": "44585bd7",
   "metadata": {},
   "source": [
    "Cada bloco principal tem um if aninhado para decidir a ordem dos dois números que sobraram.\n",
    "\n",
    "### 🧱 Construção lógica visual\n",
    "Imagina como uma árvore de decisões:"
   ]
  },
  {
   "cell_type": "markdown",
   "id": "e14daf2c",
   "metadata": {},
   "source": [
    "Quem é o maior?\n",
    "├── num1\n",
    "│   ├── num2 > num3 → num1, num2, num3\n",
    "│   └── num3 > num2 → num1, num3, num2\n",
    "├── num2\n",
    "│   ├── num1 > num3 → num2, num1, num3\n",
    "│   └── num3 > num1 → num2, num3, num1\n",
    "└── num3\n",
    "    ├── num1 > num2 → num3, num1, num2\n",
    "    └── num2 > num1 → num3, num2, num1"
   ]
  }
 ],
 "metadata": {
  "language_info": {
   "name": "python"
  }
 },
 "nbformat": 4,
 "nbformat_minor": 5
}
