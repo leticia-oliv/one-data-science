{
 "cells": [
  {
   "cell_type": "markdown",
   "id": "a2191677",
   "metadata": {},
   "source": [
    "# Aplicando a projetos"
   ]
  },
  {
   "cell_type": "markdown",
   "id": "1c467c41",
   "metadata": {},
   "source": [
    "## Sorteio de seguidores:\n",
    "\n",
    "Um programa deve ser escrito para sortear uma pessoa seguidora de uma rede social para ganhar um prêmio. A lista de participantes é numerada e devemos escolher aleatoriamente um número de acordo com a quantidade de participantes. Peça à pessoa usuária para fornecer o número de participantes do sorteio e devolva para ela o número sorteado."
   ]
  },
  {
   "cell_type": "code",
   "execution_count": null,
   "id": "1b1f9bc3",
   "metadata": {},
   "outputs": [],
   "source": [
    "import random\n",
    "\n",
    "# Solicita o número total de participantes\n",
    "total_participantes = int(input(\"Digite o número total de participantes: \"))\n",
    "\n",
    "# Garante que o número seja positivo e maior que 0\n",
    "if total_participantes > 0:\n",
    "    # Sorteia um número entre 1 e o total de participantes (inclusive)\n",
    "    sorteado = random.randint(1, total_participantes)\n",
    "    print(f\"O número sorteado foi: {sorteado}\")\n",
    "else:\n",
    "    print(\"Número inválido! O total de participantes deve ser maior que 0.\")\n"
   ]
  },
  {
   "cell_type": "markdown",
   "id": "71d20d98",
   "metadata": {},
   "source": [
    "## Token par\n",
    "\n",
    "Você recebeu uma demanda para gerar números de token para acessar o aplicativo de uma empresa. O token precisa ser par e variar de 1000 até 9998. Escreva um código que solicita à pessoa usuária o seu nome e exibe uma mensagem junto a esse token gerado aleatoriamente."
   ]
  },
  {
   "cell_type": "code",
   "execution_count": 2,
   "id": "016b0c4a",
   "metadata": {},
   "outputs": [
    {
     "name": "stdout",
     "output_type": "stream",
     "text": [
      "Olá, Letícia! Seu token de acesso é: 4954. Seja bem-vindo(a)!\n"
     ]
    }
   ],
   "source": [
    "import random\n",
    "\n",
    "# Solicita o nome do usuário\n",
    "nome = input('Digite seu nome: ')\n",
    "\n",
    "# Gerar o token par entre 1000 e 9998\n",
    "token = random.randrange(1000, 9999, 2) # o step vai garantir que seja par\n",
    "\n",
    "print(f'Olá, {nome}! Seu token de acesso é: {token}. Seja bem-vindo(a)!')"
   ]
  },
  {
   "cell_type": "markdown",
   "id": "2cb25a91",
   "metadata": {},
   "source": [
    "## Pêra, uva, maçã ou salada mista?\n",
    "\n",
    "Para diversificar e atrair novos(as) clientes, uma lanchonete criou um item misterioso em seu cardápio chamado \"salada de frutas surpresa\". Neste item, são escolhidas aleatoriamente 3 frutas de uma lista de 12 para compor a salada de frutas da pessoa cliente. Crie o código que faça essa seleção aleatória de acordo com a lista abaixo:\n"
   ]
  },
  {
   "cell_type": "code",
   "execution_count": 3,
   "id": "84f2ed62",
   "metadata": {},
   "outputs": [
    {
     "name": "stdout",
     "output_type": "stream",
     "text": [
      "🍓 Sua salada de frutas surpresa contém:\n",
      "- ameixa\n",
      "- maçã\n",
      "- coco\n"
     ]
    }
   ],
   "source": [
    "import random\n",
    "\n",
    "# Lista de frutas disponíveis\n",
    "frutas = [\"maçã\", \"banana\", \"uva\", \"pêra\", \n",
    "          \"manga\", \"coco\", \"melancia\", \"mamão\",\n",
    "          \"laranja\", \"abacaxi\", \"kiwi\", \"ameixa\"]\n",
    "\n",
    "# Seleciona 3 frutas diferentes de forma aleatória\n",
    "salada_surpresa = random.sample(frutas, 3)\n",
    "\n",
    "# Exibe o resultado\n",
    "print(\"🍓 Sua salada de frutas surpresa contém:\")\n",
    "for fruta in salada_surpresa:\n",
    "    print(f\"- {fruta}\")\n"
   ]
  },
  {
   "cell_type": "code",
   "execution_count": 6,
   "id": "1e5c28ba",
   "metadata": {},
   "outputs": [
    {
     "name": "stdout",
     "output_type": "stream",
     "text": [
      "A salada surpresa é: banana, maçã e coco\n"
     ]
    }
   ],
   "source": [
    "## Do instrutor:\n",
    "from random import choices\n",
    "\n",
    "# Lista das frutas disponíveis\n",
    "frutas = [\"maçã\", \"banana\", \"uva\", \"pêra\",\"manga\", \"coco\", \n",
    "          \"melancia\", \"mamão\", \"laranja\", \"abacaxi\", \"kiwi\", \"ameixa\"]\n",
    "\n",
    "# Gerando uma lista com a escolha aleatoria de 3 frutas \n",
    "salada = choices(frutas, k=3)\n",
    "\n",
    "# Imprimindo os itens da lista de frutas gerada\n",
    "print(f\"A salada surpresa é: {salada[0]}, {salada[1]} e {salada[2]}\")"
   ]
  },
  {
   "cell_type": "markdown",
   "id": "ea09c987",
   "metadata": {},
   "source": [
    "## É inteiro?\n",
    "\n",
    "Você recebeu um desafio de calcular a raiz quadrada de uma lista de números, identificando quais resultaram em um número inteiro. A lista é a seguinte:\n",
    "\n",
    "numeros = [2, 8, 15, 23, 91, 112, 256]\n",
    "\n",
    "No final, informe quais números possuem raízes inteiras e seus respectivos valores.\n",
    "\n",
    "Dica: use a comparação entre a divisão inteira (//) da raiz por 1 com o valor da raiz para verificar se o número é inteiro. Por exemplo:\n",
    "\n",
    "    num = 1.5\n",
    "    num_2 = 2\n",
    "    print(f'{num} é inteiro? :', num // 1 == num)\n",
    "    print(f'{num_2} é inteiro? :', num_2 // 1 == num_2)\n",
    "\n",
    "Saída:\n",
    "\n",
    "    1.5 é inteiro? : False\n",
    "    2 é inteiro? : True"
   ]
  },
  {
   "cell_type": "code",
   "execution_count": null,
   "id": "90bcabf7",
   "metadata": {},
   "outputs": [],
   "source": [
    "import math\n",
    "\n",
    "# Lista de números\n",
    "numeros = [2, 8, 15, 23, 91, 112, 256]\n",
    "\n",
    "# Lista para armazenar resultados com raízes inteiras\n",
    "raizes_inteiras = []\n",
    "\n",
    "# Verifica cada número\n",
    "for numero in numeros:\n",
    "    raiz = math.sqrt(numero)\n",
    "    if raiz // 1 == raiz:\n",
    "        raizes_inteiras.append((numero, int(raiz)))\n",
    "\n",
    "# Exibe os resultados\n",
    "print(\"Números com raízes quadradas inteiras:\")\n",
    "for num, raiz in raizes_inteiras:\n",
    "    print(f\"- {num} → raiz: {raiz}\")\n"
   ]
  },
  {
   "cell_type": "markdown",
   "id": "f77c7680",
   "metadata": {},
   "source": [
    "## A grama do vizinho...\n",
    "\n",
    "Faça um programa para uma loja que vende grama para jardins. Essa loja trabalha com jardins circulares e o preço do metro quadrado da grama é de R$ 25,00. Peça à pessoa usuária o raio da área circular e devolva o valor em reais do quanto precisará pagar.\n",
    "\n",
    "Dica: use a variável pi e o método pow() da biblioteca math. O cálculo da área de um círculo é de: A = π*r^2 (lê-se pi vezes raio ao quadrado)."
   ]
  },
  {
   "cell_type": "code",
   "execution_count": null,
   "id": "f5d02cb0",
   "metadata": {},
   "outputs": [],
   "source": [
    "import math\n",
    "\n",
    "# Preço por metro quadrado\n",
    "preco_m2 = 25.00\n",
    "\n",
    "# Solicita o raio do jardim\n",
    "raio = float(input(\"Digite o raio do jardim circular (em metros): \"))\n",
    "\n",
    "# Calcula a área: π * r²\n",
    "area = math.pi * math.pow(raio, 2)\n",
    "\n",
    "# Calcula o valor total\n",
    "valor_total = area * preco_m2\n",
    "\n",
    "# Exibe o resultado com duas casas decimais\n",
    "print(f\"A área do jardim é de {area:.2f} m².\")\n",
    "print(f\"O valor total a pagar pela grama é: R$ {valor_total:.2f}\")"
   ]
  },
  {
   "cell_type": "markdown",
   "id": "1541d836",
   "metadata": {},
   "source": [
    "# Aplicando a projetos 2"
   ]
  },
  {
   "cell_type": "markdown",
   "id": "03c2c77d",
   "metadata": {},
   "source": [
    "## Vendas\n",
    "\n",
    "Uma loja possui um banco de dados com a informação de venda de cada representante e de cada ano e precisa filtrar somente os dados do ano 2022 com venda maior do que 6000. A loja forneceu uma amostra contendo apenas as colunas com os anos e os valores de venda para que você ajude a realizar a filtragem dos dados a partir de um código:"
   ]
  },
  {
   "cell_type": "code",
   "execution_count": null,
   "id": "c955e81c",
   "metadata": {},
   "outputs": [],
   "source": [
    "vendas = [('2023', 4093), ('2021', 4320), ('2021', 5959), ('2022', 8883), ('2023', 9859), ('2022', 5141), ('2022', 7688), ('2022', 9544), ('2023', 4794), ('2021', 7178), ('2022', 3030), ('2021', 7471), ('2022', 4226), ('2022', 8190), ('2021', 9680), ('2022', 5616)]"
   ]
  },
  {
   "cell_type": "code",
   "execution_count": null,
   "id": "89fac0b8",
   "metadata": {},
   "outputs": [],
   "source": [
    "vendas_2022_maior_6000 = [valor for ano, valor in vendas if ano == '2022' and valor > 6000]\n",
    "print(vendas_2022_maior_6000)"
   ]
  },
  {
   "cell_type": "markdown",
   "id": "c7b59404",
   "metadata": {},
   "source": [
    "## Glicose\n",
    "\n",
    "Uma clínica analisa dados de pacientes e armazena o valor numérico da glicose em um banco de dados e gostaria de rotular os dados da seguinte maneira:\n",
    "\n",
    "Glicose igual ou inferior a 70: 'Hipoglicemia'\n",
    "Glicose entre 70 a 99: 'Normal'\n",
    "Glicose entre 100 e 125: 'Alterada'\n",
    "Glicose superior a 125: 'Diabetes'\n",
    "A clínica disponibilizou parte dos valores e sua tarefa é criar uma lista de tuplas usando list comprehension contendo o rótulo e o valor da glicemia em cada tupla."
   ]
  },
  {
   "cell_type": "code",
   "execution_count": null,
   "id": "08e53321",
   "metadata": {},
   "outputs": [],
   "source": [
    "glicemia = [129, 82, 60, 97, 101, 65, 62, 167, 87, 53, 58, 92, 66, 120, 109, 62, 86, 96, 103, 88, 155, 52, 89, 73]"
   ]
  },
  {
   "cell_type": "code",
   "execution_count": null,
   "id": "1676db0e",
   "metadata": {},
   "outputs": [],
   "source": [
    "rotulos = [('Hipoglicemia', glicose) if glicose <= 70 else ('Normal', glicose) if glicose < 100 else ('Alterada', glicose) if glicose < 125 else ('Diabetes', glicose) for glicose in glicemia]\n",
    "print(rotulos)"
   ]
  }
 ],
 "metadata": {
  "kernelspec": {
   "display_name": "Python 3",
   "language": "python",
   "name": "python3"
  },
  "language_info": {
   "codemirror_mode": {
    "name": "ipython",
    "version": 3
   },
   "file_extension": ".py",
   "mimetype": "text/x-python",
   "name": "python",
   "nbconvert_exporter": "python",
   "pygments_lexer": "ipython3",
   "version": "3.13.0"
  }
 },
 "nbformat": 4,
 "nbformat_minor": 5
}
