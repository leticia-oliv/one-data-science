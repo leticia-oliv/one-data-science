{
 "cells": [
  {
   "cell_type": "markdown",
   "id": "765fe164",
   "metadata": {},
   "source": [
    "## Lista\n",
    "\n",
    "Uma lista é uma coleção ordenada de elementos que podem ser ou não do mesmo tipo. Podemos ter  _strings_, números, tuplas e até mesmo listas. Para verificar o formato de uma lista de listas, retornaremos ao  [Colab do curso](https://colab.research.google.com/drive/11kgbYpYcllVfRJUyA-X4Y7dW5y9pLRH5)  e analisaremos com detalhes esse formato.\n",
    "\n",
    "#### Listas de listas\n",
    "\n",
    "-   **Formato padrão:**"
   ]
  },
  {
   "cell_type": "code",
   "execution_count": null,
   "id": "1bd27343",
   "metadata": {},
   "outputs": [],
   "source": [
    "[[a1, a2,...,an], [b1, b2,...,bn], ..., [n1, n2,...,nn]]"
   ]
  },
  {
   "cell_type": "markdown",
   "id": "af29a689",
   "metadata": {},
   "source": [
    "Essa lista é separada por colchetes e seus elementos são separados por vírgula. Entre vírgulas estão as listas. Para entender um pouco mais sobre como utilizar esse tipo de estrutura, vamos trabalhar com uma solução-problema, resolvendo mais uma demanda da escola, utilizando esse ferramental.\n",
    "\n",
    "## Situação 6\n",
    "\n",
    "Recebemos a demanda de transformar uma lista com o nome e as notas dos três trimestres de estudantes em uma lista simples com os nomes separados das notas e uma lista de listas com as três notas de cada estudante separadas umas das outras.\n",
    "\n",
    "Os dados recebidos correspondem a uma lista com os nomes e as respectivas notas de cada estudante. Vamos resolver esse desafio? Para facilitar o nosso entendimento do processo vamos trabalhar com uma turma fictícia de 5 estudantes."
   ]
  },
  {
   "cell_type": "code",
   "execution_count": null,
   "id": "9952c30a",
   "metadata": {},
   "outputs": [],
   "source": [
    "notas_turma = ['João', 8.0, 9.0, 10.0, 'Maria', 9.0, 7.0, 6.0, 'José', 3.4, 7.0, 7.0, 'Cláudia', 5.5, 6.6, 8.0, 'Ana', 6.0, 10.0, 9.5]"
   ]
  },
  {
   "cell_type": "markdown",
   "id": "bedbc33b",
   "metadata": {},
   "source": [
    "\n",
    "Temos uma lista,  `notas_turmas`, composta pelo nome do(a) estudante, seguido das três notas que tirou. São 5 estudantes e 15 notas, totalizando 20 itens.\n",
    "\n",
    "Primeiro, podemos tentar separar os nomes das listas. Vamos gerar duas listas vazias, uma com  `nomes`  e outra com as  `notas_juntas`. Para realizar a separação, precisamos pensar na estrutura da lista:\n",
    "\n",
    "-   nome do estudante, pula três casas; nome do estudante, pula três casas; nome do estudante, pula três casas.\n",
    "\n",
    "Vamos considerar  `João`  como posição zero, como normalmente uma lista é referenciada. Então\n",
    "\n",
    "-   João é zero; 1, 2, 3; Maria é 4; 5, 6, 7; José é 8; 9, 10, 11; Cláudia é 12.\n",
    "\n",
    "É possível notar um padrão: 0, 4, 8. Ou seja, múltiplos de 4. Então, para encontrarmos apenas os nomes, podemos trabalhar com um laço  `for`, passar  `i in range()`  e essa  `range()`  pegará o  `len()`  ou \"comprimento\" da lista  `notas_turma`."
   ]
  },
  {
   "cell_type": "code",
   "execution_count": null,
   "id": "6ab7f147",
   "metadata": {},
   "outputs": [],
   "source": [
    "nomes = []\n",
    "notas_juntas = []\n",
    "\n",
    "for i in range(len(notas_turma))"
   ]
  },
  {
   "cell_type": "markdown",
   "id": "94cb6278",
   "metadata": {},
   "source": [
    "Vamos sair de zero e ir até 19 iterando essa lista. Não contamos o 20, porque o  `for`  sai quando chega no 20. Continuando, vamos adicionar \"dois pontos (:)\", apertar \"Enter\" e identar.\n",
    "\n",
    "Nós queremos pegar apenas os nós. Para isso, utilizaremos uma condicional,  `if`, que vai procurar saber quando a divisão por 4 será igual a zero:\n",
    "\n",
    "-   Quando resta zero, então temos um múltiplo de 4. Passaremos esse valor para  **nomes**.\n",
    "    \n",
    "-   Quando não resta zero, não temos um múltiplo de 4. Passaremos esse valor para  **notas**.\n",
    "    \n",
    "\n",
    "Com isso, conseguiremos separar os nomes das notas. Para múltiplo de 4, vamos fazer:"
   ]
  },
  {
   "cell_type": "code",
   "execution_count": null,
   "id": "7b38b4b1",
   "metadata": {},
   "outputs": [],
   "source": [
    "nomes = []\n",
    "notas_juntas = []\n",
    "\n",
    "for i in range(len(notas_turma)): \n",
    "  if i % 4 ==0: \n",
    "     nomes.append(notas_turma[i])"
   ]
  },
  {
   "cell_type": "markdown",
   "id": "dd3909ae",
   "metadata": {},
   "source": [
    "Estamos passando o valor que está na posição zero, depois, na posição 4 e assim por diante. Agora, vamos passar o caso contrário:"
   ]
  },
  {
   "cell_type": "code",
   "execution_count": null,
   "id": "91f3e4dc",
   "metadata": {},
   "outputs": [],
   "source": [
    "nomes = []\n",
    "notas_juntas = []\n",
    "\n",
    "for i in range(len(notas_turma)): \n",
    "  if i % 4 ==0: \n",
    "      nomes.append(notas_turma[i])\n",
    "  else: \n",
    "      notas_juntas.append(notas_turma[i])"
   ]
  },
  {
   "cell_type": "markdown",
   "id": "67243a51",
   "metadata": {},
   "source": [
    "Ao rodar o código, as duas listas serão criadas, com os nomes e com as notas.\n",
    "\n",
    "> Não se esqueça de rodar  `notas_turma`  também!\n",
    "\n",
    "O próximo passo é tentar ler cada uma das listas separadas e então saberemos se conseguimos separá-las corretamente."
   ]
  }
 ],
 "metadata": {
  "language_info": {
   "name": "python"
  }
 },
 "nbformat": 4,
 "nbformat_minor": 5
}
