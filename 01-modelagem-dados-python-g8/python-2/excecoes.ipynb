{
 "cells": [
  {
   "cell_type": "markdown",
   "id": "974c736e",
   "metadata": {},
   "source": [
    "## Exeções\n",
    "\n",
    "No Python existem basicamente duas formas distintas de erros: os  **de sintaxe**  e as  **exceções**. As exceções são uma forma de lidar com erros e situações inesperadas no código, garantindo um fluxo de execução mais controlado.\n",
    "\n",
    "Como uma pessoa cientista de dados, você precisará ter atenção a situações como esta para evitar bugs ou problemas em seus códigos e análises que possam afetar a experiência tanto da pessoa usuária quanto a eficiência da sua análise."
   ]
  },
  {
   "cell_type": "markdown",
   "id": "fe2cc26b",
   "metadata": {},
   "source": [
    "### Tipos de Exceções\n",
    "\n",
    "#### SyntaxError\n",
    "\n",
    "Ocorre quando é detectado pelo  _**parser**_  (analisador) um erro na descrição do código. Normalmente uma seta aponta para a parte do código que gerou o erro, como uma espécie de dica onde o erro possa ter ocorrido."
   ]
  },
  {
   "cell_type": "code",
   "execution_count": null,
   "id": "9353410e",
   "metadata": {},
   "outputs": [],
   "source": [
    "print(10 / 2"
   ]
  },
  {
   "cell_type": "markdown",
   "id": "33588761",
   "metadata": {},
   "source": [
    "#### NameError\n",
    "\n",
    "Exceção lançada quando tentamos utilizar um nome de algum elemento que não está presente em nosso código."
   ]
  },
  {
   "cell_type": "code",
   "execution_count": null,
   "id": "3979ee06",
   "metadata": {},
   "outputs": [],
   "source": [
    "raiz = sqrt(100)"
   ]
  },
  {
   "cell_type": "markdown",
   "id": "aaeb6576",
   "metadata": {},
   "source": [
    "#### IndexError\n",
    "\n",
    "Exceção lançada quando tentamos indexar alguma estrutura de dados como lista, tupla ou até string além de seus limites."
   ]
  },
  {
   "cell_type": "code",
   "execution_count": null,
   "id": "33e371db",
   "metadata": {},
   "outputs": [],
   "source": [
    "lista = [1, 2, 3]\n",
    "lista[4]"
   ]
  },
  {
   "cell_type": "markdown",
   "id": "624c3db2",
   "metadata": {},
   "source": [
    "#### TypeError\n",
    "\n",
    "Exceção lançada quando um operador ou função são aplicados a um objeto cujo tipo é inapropriado."
   ]
  },
  {
   "cell_type": "code",
   "execution_count": null,
   "id": "8f77054e",
   "metadata": {},
   "outputs": [],
   "source": [
    "\"1\" + 1"
   ]
  },
  {
   "cell_type": "markdown",
   "id": "b78ff97d",
   "metadata": {},
   "source": [
    "#### KeyError\n",
    "\n",
    "Exceção lançada quando tentamos acessar uma chave que não está no dicionário presente em nosso código."
   ]
  },
  {
   "cell_type": "code",
   "execution_count": null,
   "id": "cf277ae7",
   "metadata": {},
   "outputs": [],
   "source": [
    "estados = {'Bahia': 1, 'São Paulo': 2, 'Goiás': 3}\n",
    "estados[\"Amazonas\"]"
   ]
  },
  {
   "cell_type": "markdown",
   "id": "5abcdc9b",
   "metadata": {},
   "source": [
    "#### Warning\n",
    "\n",
    "Exceção lançada em situações que precisamos alertar à pessoa usuária sobre algumas condições do código. Essas condições não necessariamente interrompem a execução do programa, mas podem lançar avisos sobre uso de módulos obsoletos, ou que possam ser depreciados em atualizações futuras ou também para alterações que podem reverberar sobre alguma parte do código.\n",
    "\n",
    "Lembrando que, no caso dos  _**Warnings**_  eles podem ser ignorados ou tratados como exceções."
   ]
  },
  {
   "cell_type": "code",
   "execution_count": null,
   "id": "19235ded",
   "metadata": {},
   "outputs": [],
   "source": [
    "import numpy as np\n",
    "\n",
    "a = np.arange(5)\n",
    "a / a  # apresenta um warning"
   ]
  },
  {
   "cell_type": "markdown",
   "id": "0567b7ca",
   "metadata": {},
   "source": [
    "## Try...Except\n",
    "\n",
    "Nela, temos dois tipos de cláusulas em que  _try_  representa o código padrão. Caso não ocorra nenhuma exceção, ele será executado por completo e o programa seguirá.\n",
    "\n",
    "Se uma exceção for lançada, quebramos a execução de  _try_  e continuamos com o que precisa ser executado em  _except_, que seria a cláusula de exceção. Ou seja, a cláusula  _except_  só será acionada se uma exceção for lançada na cláusula  _try_.\n",
    "\n",
    "Esta exceção não precisa necessariamente ser declarada, então podemos apenas incluir  `except`  e as instruções de código. Caso optemos por declarar o nome da exceção, o passamos seguido d o apelido  `e`."
   ]
  },
  {
   "cell_type": "code",
   "execution_count": null,
   "id": "57676fc2",
   "metadata": {},
   "outputs": [],
   "source": [
    "except <nome_da_excecao as e>:"
   ]
  },
  {
   "cell_type": "markdown",
   "id": "cd97de79",
   "metadata": {},
   "source": [
    "Vamos trabalhar com um exemplo para entender como se aplicam.\n",
    "\n",
    "> Situação 12: Você criou um código que lê um dicionário com as notas dos estudantes e quis retornar a lista de notas de determinado(a) estudante. Caso o(a) estudante não esteja matriculado(a) na turma, devemos tratar a exceção para aparecer a mensagem \"Estudante não matriculado(a) na turma\". Vamos trabalhar nesse exemplo com a exceção  **Key Error**  que interromperá o processo desse pedaço do código. Vamos testar esse primeiro tratamento?"
   ]
  },
  {
   "cell_type": "code",
   "execution_count": null,
   "id": "518f2756",
   "metadata": {},
   "outputs": [],
   "source": [
    "notas = {'João': [8.0, 9.0, 10.0], 'Maria': [9.0, 7.0, 6.0], 'José': [3.4, 7.0, 8.0],'Cláudia': [5.5, 6.6, 8.0], 'Ana': [6.0, 10.0, 9.5], 'Joaquim': [5.5, 7.5, 9.0], 'Júlia': [6.0, 8.0, 7.0], 'Pedro': [3.0, 4.0, 6.0]}\n",
    "\n",
    "try:\n",
    "    nome = input(\"Digite o nome do(a) estudante: \")\n",
    "    resultado = notas[nome]\n",
    "except KeyError:\n",
    "    print(\"Estudante não matriculado(a) na turma\")\n",
    "else:\n",
    "    print(resultado)"
   ]
  },
  {
   "cell_type": "markdown",
   "id": "7094d288",
   "metadata": {},
   "source": [
    "\n",
    "## finally\n",
    "\n",
    "O  `try`  corresponde ao fluxo normal,  `except`  ao fluxo de exceção, e  `else`  para o caso em que a exceção não for lançada. O  `finally`, por sua vez, funciona para os casos em que qualquer uma das duas situações ocorra. Ou seja, tendo ou não exceção, a cláusula  `finally`  será executada.\n",
    "\n",
    "Ela é usada, geralmente, em situações que retornem uma mensagem de finalização do programa ou que, independente do problema ocorrido, ainda possamos trabalhar com o código.\n",
    "\n",
    "Vejamos uma situação semelhante à anterior para aplicar esta cláusula.\n",
    "\n",
    "> Situação 14: Você criou um código que lê um dicionário com as notas dos estudantes e quis retornar a lista de notas de um estudante. Caso o(a) estudante não esteja matriculado(a) na classe devemos tratar a exceção para aparecer a mensagem \"Estudante não matriculado(a) na turma\" e se a exceção não for lançada devemos exibir a lista com as notas do(a) estudante. Um texto avisando que \"A consulta foi encerrada!\" deve ser exibido com ou sem a exceção ser lançada. Vamos trabalhar nesse exemplo com a exceção  **Key Error**  que interromperá o processo desse pedaço do codigo. Vamos testar esse tratamento?"
   ]
  },
  {
   "cell_type": "code",
   "execution_count": null,
   "id": "08e27958",
   "metadata": {},
   "outputs": [],
   "source": [
    "notas = {'João': [8.0, 9.0, 10.0], 'Maria': [9.0, 7.0, 6.0], 'José': [3.4, 7.0, 8.0],'Cláudia': [5.5, 6.6, 8.0], 'Ana': [6.0, 10.0, 9.5], 'Joaquim': [5.5, 7.5, 9.0], 'Júlia': [6.0, 8.0, 7.0], 'Pedro': [3.0, 4.0, 6.0]}\n",
    "\n",
    "try:\n",
    "    nome = input(\"Digite o nome do(a) estudante: \")\n",
    "    resultado = notas[nome]\n",
    "except KeyError:\n",
    "    print(\"Estudante não matriculado(a) na turma\")\n",
    "else:\n",
    "    print(resultado)\n",
    "finally:\n",
    "    print(\"A consulta foi encerrada!\")"
   ]
  },
  {
   "cell_type": "markdown",
   "id": "77aa4592",
   "metadata": {},
   "source": [
    "\n",
    "Ao executar, passamos o nome \"José\" e o retorno é o seguinte:\n",
    "\n",
    "> [3.4, 7.0, 8.0] A consulta foi encerrada!\n",
    "\n",
    "Note que temos a lista de notas deste aluno seguida do aviso de que a consulta foi encerrada.\n",
    "\n",
    "Ao executar novamente, passamos um nome não existente no dicionário, como \"Bruno\", e o retorno é:\n",
    "\n",
    "> Estudante não matriculado(a) na turma A consulta foi encerrada!\n",
    "\n",
    "Ou seja, mesmo ao executar a cláusula  `except`, que avisa que o estudante não está matriculado(a), recebemos o informativo de encerramento da consulta.\n",
    "\n",
    "Conseguimos tratar o mesmo problema utilizando mais camadas para atingir fluxos necessários para o nosso dado.\n",
    "\n",
    "Agora, seria interessante que você tentasse, por conta própria, incluir um novo tipo de exceção, aplicando, por exemplo, uma lista de notas que indique notas que não podem ser utilizadas, ou notas máximas que se pode ter em um conjunto."
   ]
  }
 ],
 "metadata": {
  "language_info": {
   "name": "python"
  }
 },
 "nbformat": 4,
 "nbformat_minor": 5
}
