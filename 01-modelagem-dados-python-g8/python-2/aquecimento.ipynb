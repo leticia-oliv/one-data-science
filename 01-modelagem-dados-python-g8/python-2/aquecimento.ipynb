{
 "cells": [
  {
   "cell_type": "markdown",
   "id": "99080795",
   "metadata": {},
   "source": [
    "## Aquecimento\n",
    "Vamos praticar o que aprendemos até aqui solucionando os problemas propostos em código."
   ]
  },
  {
   "cell_type": "markdown",
   "id": "b8ba291c",
   "metadata": {},
   "source": [
    "1. Escreva um código para instalar a versão 3.7.1 da biblioteca matplotlib."
   ]
  },
  {
   "cell_type": "code",
   "execution_count": null,
   "id": "eeac762b",
   "metadata": {},
   "outputs": [],
   "source": [
    "!pip install matplotlib==3.7.1"
   ]
  },
  {
   "cell_type": "markdown",
   "id": "d544d584",
   "metadata": {},
   "source": [
    "2. Escreva um código para importar a biblioteca numpy com o alias np."
   ]
  },
  {
   "cell_type": "code",
   "execution_count": null,
   "id": "97a42963",
   "metadata": {},
   "outputs": [],
   "source": [
    "import numpy as np"
   ]
  },
  {
   "cell_type": "markdown",
   "id": "0976e904",
   "metadata": {},
   "source": [
    "3. Crie um programa que leia a seguinte lista de números e escolha um número desta aleatoriamente.\n",
    "\n",
    "    ` lista = [8, 12, 54, 23, 43, 1, 90, 87, 105, 77] `"
   ]
  },
  {
   "cell_type": "code",
   "execution_count": 2,
   "id": "6c28a3bd",
   "metadata": {},
   "outputs": [
    {
     "name": "stdout",
     "output_type": "stream",
     "text": [
      "90\n"
     ]
    }
   ],
   "source": [
    "import random\n",
    "lista = [8, 12, 54, 23, 43, 1, 90, 87, 105, 77]\n",
    "\n",
    "numero_escolhido = random.choice(lista)\n",
    "print(numero_escolhido)"
   ]
  },
  {
   "cell_type": "markdown",
   "id": "c874e4e8",
   "metadata": {},
   "source": [
    "4. Crie um programa que sorteia, aleatoriamente, um número inteiro positivo menor que 100.\n",
    "\n",
    "    Dica: use a função randrange() da biblioteca random. Essa função recebe como parâmetro o valor limite para a escolha aleatória ou um intervalo se passado o limite mínimo e máximo. Por exemplo, randrange(5) gera valores inteiros menores que 5."
   ]
  },
  {
   "cell_type": "code",
   "execution_count": 2,
   "id": "e24d0034",
   "metadata": {},
   "outputs": [
    {
     "name": "stdout",
     "output_type": "stream",
     "text": [
      "Número sorteado: 27\n"
     ]
    }
   ],
   "source": [
    "import random\n",
    "numero_sorteado = random.randrange(100) #de zero a 99\n",
    "print(f'Número sorteado: {numero_sorteado}')"
   ]
  },
  {
   "cell_type": "markdown",
   "id": "2bf6b133",
   "metadata": {},
   "source": [
    "5. Crie um programa que solicite à pessoa usuária digitar dois números inteiros e calcular a potência do 1º número elevado ao 2º.\n",
    "\n",
    "    Dica: use a função pow() da biblioteca math"
   ]
  },
  {
   "cell_type": "code",
   "execution_count": 3,
   "id": "ec8d1f2b",
   "metadata": {},
   "outputs": [
    {
     "name": "stdout",
     "output_type": "stream",
     "text": [
      "5 elevado a 2 é igual a 25.0\n"
     ]
    }
   ],
   "source": [
    "import math\n",
    "\n",
    "base = int(input('Digite o primeiro número (base): '))\n",
    "expoente = int(input('Digite o segundo número (expoente): '))\n",
    "\n",
    "resultado = math.pow(base, expoente)\n",
    "\n",
    "print(f'{base} elevado a {expoente} é igual a {resultado}')"
   ]
  }
 ],
 "metadata": {
  "kernelspec": {
   "display_name": "Python 3",
   "language": "python",
   "name": "python3"
  },
  "language_info": {
   "codemirror_mode": {
    "name": "ipython",
    "version": 3
   },
   "file_extension": ".py",
   "mimetype": "text/x-python",
   "name": "python",
   "nbconvert_exporter": "python",
   "pygments_lexer": "ipython3",
   "version": "3.13.0"
  }
 },
 "nbformat": 4,
 "nbformat_minor": 5
}
