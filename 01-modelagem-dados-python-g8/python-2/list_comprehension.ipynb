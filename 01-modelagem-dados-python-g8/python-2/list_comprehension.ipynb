{
 "cells": [
  {
   "cell_type": "markdown",
   "id": "da3dd5ee",
   "metadata": {},
   "source": [
    "# List Comprehension em Python\n",
    "\n",
    "**List Comprehension** é uma forma concisa e elegante de criar listas em Python. Ela substitui o uso de laços `for` tradicionais com menos código e mais legibilidade.\n",
    "\n",
    "---\n",
    "\n",
    "## 📌 Estrutura Básica\n",
    "\n",
    "```python\n",
    "nova_lista = [expressão for item in iterável]\n"
   ]
  },
  {
   "cell_type": "code",
   "execution_count": null,
   "id": "2a383c3a",
   "metadata": {},
   "outputs": [],
   "source": [
    "quadrados = [x**2 for x in range(5)]\n",
    "print(quadrados) "
   ]
  },
  {
   "cell_type": "code",
   "execution_count": null,
   "id": "7fa8c002",
   "metadata": {},
   "outputs": [],
   "source": [
    "# Com Condicional if\n",
    "pares = [x for x in range(10) if x % 2 == 0]\n",
    "print(pares)  # Saída: [0, 2, 4, 6, 8]\n"
   ]
  },
  {
   "cell_type": "code",
   "execution_count": null,
   "id": "78660401",
   "metadata": {},
   "outputs": [],
   "source": [
    "# Com if...else na Expressão\n",
    "resultado = [\"par\" if x % 2 == 0 else \"ímpar\" for x in range(5)]\n",
    "print(resultado) "
   ]
  },
  {
   "cell_type": "markdown",
   "id": "fc847e21",
   "metadata": {},
   "source": [
    "List Comprehension também funciona com listas de listas (listas aninhadas), dicionários e sets. Exemplo com lista de listas:"
   ]
  },
  {
   "cell_type": "code",
   "execution_count": null,
   "id": "b59cc391",
   "metadata": {},
   "outputs": [],
   "source": [
    "matriz = [[1, 2], [3, 4], [5, 6]]\n",
    "flatten = [num for linha in matriz for num in linha]\n",
    "print(flatten)\n"
   ]
  },
  {
   "cell_type": "code",
   "execution_count": 3,
   "id": "30ec0312",
   "metadata": {},
   "outputs": [
    {
     "name": "stdout",
     "output_type": "stream",
     "text": [
      "[0, 4, 16, 36, 64, 100, 144, 196, 256, 324, 400]\n"
     ]
    }
   ],
   "source": [
    "quadrados_pares = [x**2 for x in range(21) if x % 2 == 0]\n",
    "print(quadrados_pares)"
   ]
  },
  {
   "cell_type": "code",
   "execution_count": 4,
   "id": "a6b7b175",
   "metadata": {},
   "outputs": [
    {
     "data": {
      "text/plain": [
       "['João', 'Maria', 'José', 'Cláudia', 'Ana']"
      ]
     },
     "execution_count": 4,
     "metadata": {},
     "output_type": "execute_result"
    }
   ],
   "source": [
    "nomes = [('João', 'J720'), ('Maria', 'M205'), ('José', 'J371'), ('Cláudia', 'C546'), ('Ana', 'A347')]\n",
    "medias = [9.0, 7.3, 5.8, 6.7, 8.5]\n",
    "\n",
    "lista_nomes = [nome[0] for nome in nomes]\n",
    "lista_nomes"
   ]
  }
 ],
 "metadata": {
  "kernelspec": {
   "display_name": "Python 3",
   "language": "python",
   "name": "python3"
  },
  "language_info": {
   "codemirror_mode": {
    "name": "ipython",
    "version": 3
   },
   "file_extension": ".py",
   "mimetype": "text/x-python",
   "name": "python",
   "nbconvert_exporter": "python",
   "pygments_lexer": "ipython3",
   "version": "3.13.0"
  }
 },
 "nbformat": 4,
 "nbformat_minor": 5
}
