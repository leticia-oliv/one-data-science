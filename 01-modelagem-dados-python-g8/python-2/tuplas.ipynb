{
 "cells": [
  {
   "cell_type": "markdown",
   "id": "70f19bf9",
   "metadata": {},
   "source": [
    "As  **tuplas**  são estruturas de dados imutáveis da linguagem Python que são utilizadas para armazenar conjuntos de múltiplos itens e frequentemente são aplicadas para agrupar dados que não devem ser modificados. Ou seja, não é possível adicionar, alterar ou remover seus elementos depois de criadas. Vamos explorar um pouco mais desse tipo de estrutura voltada à aplicação em ciência de dados.\n",
    "\n",
    "Tuplas são especialmente úteis em situações nas quais precisamos garantir que os dados não sejam alterados acidental ou intencionalmente. Por exemplo, em um conjunto de dados que representa o cadastro de estudantes, podemos utilizar uma tupla para representar aquele(a) estudante em específico e manter no banco de dados de uma instituição de ensino. Dessa forma, garantimos que as informações de cada estudante não sejam alteradas inadvertidamente.\n",
    "\n",
    "Para criar uma tupla, basta separar seus elementos por vírgulas. Por exemplo, podemos criar uma tupla com um registro de uma estudante da seguinte maneira:"
   ]
  },
  {
   "cell_type": "code",
   "execution_count": null,
   "id": "60b784a5",
   "metadata": {},
   "outputs": [],
   "source": [
    "cadastro = (\"Júlia\", 23, \"São Paulo\", \"SP\", \"Python para DS 1\")"
   ]
  },
  {
   "cell_type": "markdown",
   "id": "d0157e82",
   "metadata": {},
   "source": [
    "Para acessar os elementos de uma tupla, podemos usar o índice entre colchetes. Por exemplo:"
   ]
  },
  {
   "cell_type": "code",
   "execution_count": null,
   "id": "77c422a1",
   "metadata": {},
   "outputs": [],
   "source": [
    "print(cadastro[0]) # imprime Júlia\n",
    "print(cadastro[-1]) # imprime Python para DS 1"
   ]
  },
  {
   "cell_type": "markdown",
   "id": "00bdbbd4",
   "metadata": {},
   "source": [
    "Além disso, por também ser um iterável, podemos desempacotar os dados de uma tupla passando cada valor para uma variável. Por exemplo:"
   ]
  },
  {
   "cell_type": "code",
   "execution_count": null,
   "id": "b4df9330",
   "metadata": {},
   "outputs": [],
   "source": [
    "nome, idade, cidade, estado, turma = cadastro"
   ]
  },
  {
   "cell_type": "markdown",
   "id": "bf95c09f",
   "metadata": {},
   "source": [
    "E exibir os dados cadastrais da estudante:"
   ]
  },
  {
   "cell_type": "code",
   "execution_count": null,
   "id": "4f0f03ab",
   "metadata": {},
   "outputs": [],
   "source": [
    "print(f'A estudante {nome} tem {idade} anos e mora em {cidade}-{estado}. Ela está matriculada na turma de {turma}.')"
   ]
  }
 ],
 "metadata": {
  "language_info": {
   "name": "python"
  }
 },
 "nbformat": 4,
 "nbformat_minor": 5
}
