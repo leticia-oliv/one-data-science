{
 "cells": [
  {
   "cell_type": "markdown",
   "id": "34668cb9",
   "metadata": {},
   "source": [
    "## 🔸 Exercício 1 – Dobrar valores\n",
    "Use map() e lambda para dobrar os valores da lista abaixo:"
   ]
  },
  {
   "cell_type": "code",
   "execution_count": 4,
   "id": "1d594084",
   "metadata": {},
   "outputs": [],
   "source": [
    "numeros = [2, 5, 8, 10]\n",
    "# resultado esperado: [4, 10, 16, 20]"
   ]
  },
  {
   "cell_type": "code",
   "execution_count": 5,
   "id": "16aa230e",
   "metadata": {},
   "outputs": [
    {
     "name": "stdout",
     "output_type": "stream",
     "text": [
      "[4, 10, 16, 20]\n"
     ]
    }
   ],
   "source": [
    "dobro = list(map(lambda x: x * 2, numeros))\n",
    "print(dobro)"
   ]
  },
  {
   "cell_type": "markdown",
   "id": "d0676058",
   "metadata": {},
   "source": [
    "## 🔸 Exercício 2 – Filtrar ímpares\n",
    "Use filter() e lambda para filtrar apenas os números ímpares:"
   ]
  },
  {
   "cell_type": "code",
   "execution_count": 6,
   "id": "95900abd",
   "metadata": {},
   "outputs": [],
   "source": [
    "numeros = [1, 2, 3, 4, 5, 6]\n",
    "# resultado esperado: [1, 3, 5]"
   ]
  },
  {
   "cell_type": "code",
   "execution_count": 7,
   "id": "04f22da9",
   "metadata": {},
   "outputs": [
    {
     "name": "stdout",
     "output_type": "stream",
     "text": [
      "[1, 3, 5]\n"
     ]
    }
   ],
   "source": [
    "impares = list(filter(lambda x: x % 2 !=0, numeros))\n",
    "print(impares)"
   ]
  },
  {
   "cell_type": "markdown",
   "id": "2fb6185a",
   "metadata": {},
   "source": [
    "## 🔸 Exercício 4 – Nomes com mais de 3 letras\n",
    "Use filter() e lambda para filtrar nomes com mais de 3 letras:"
   ]
  },
  {
   "cell_type": "code",
   "execution_count": 8,
   "id": "cd1a3633",
   "metadata": {},
   "outputs": [],
   "source": [
    "nomes = ['Ana', 'Jo', 'Pedro', 'Lu']\n",
    "# resultado esperado: ['Ana', 'Pedro']"
   ]
  },
  {
   "cell_type": "code",
   "execution_count": 9,
   "id": "3160b655",
   "metadata": {},
   "outputs": [
    {
     "name": "stdout",
     "output_type": "stream",
     "text": [
      "['Pedro']\n"
     ]
    }
   ],
   "source": [
    "nomes = ['Ana', 'Jo', 'Pedro', 'Lu']\n",
    "resultado = list(filter(lambda nome: len(nome) > 3, nomes))\n",
    "print(resultado)"
   ]
  },
  {
   "cell_type": "markdown",
   "id": "67caf585",
   "metadata": {},
   "source": [
    "## 🔸 Exercício 5 – Elevar ao quadrado\n",
    "Use map() e lambda para elevar os números ao quadrado:"
   ]
  },
  {
   "cell_type": "code",
   "execution_count": 10,
   "id": "2272d00b",
   "metadata": {},
   "outputs": [],
   "source": [
    "numeros = [3, 6, 9]\n",
    "# resultado esperado: [9, 36, 81]"
   ]
  },
  {
   "cell_type": "code",
   "execution_count": 11,
   "id": "26ee6a1b",
   "metadata": {},
   "outputs": [
    {
     "name": "stdout",
     "output_type": "stream",
     "text": [
      "[9, 36, 81]\n"
     ]
    }
   ],
   "source": [
    "numeros = [3, 6, 9]\n",
    "resultado = list(map(lambda x: x ** 2, numeros))\n",
    "print(resultado)"
   ]
  }
 ],
 "metadata": {
  "kernelspec": {
   "display_name": "Python 3",
   "language": "python",
   "name": "python3"
  },
  "language_info": {
   "codemirror_mode": {
    "name": "ipython",
    "version": 3
   },
   "file_extension": ".py",
   "mimetype": "text/x-python",
   "name": "python",
   "nbconvert_exporter": "python",
   "pygments_lexer": "ipython3",
   "version": "3.13.0"
  }
 },
 "nbformat": 4,
 "nbformat_minor": 5
}
