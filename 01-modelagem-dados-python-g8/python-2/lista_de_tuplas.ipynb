{
 "cells": [
  {
   "cell_type": "markdown",
   "id": "a64348bc",
   "metadata": {},
   "source": [
    "## Tuplas\n",
    "\n",
    "As  **tuplas**  são  **estruturas de dados**  usadas para armazenar itens em uma  **única variável**. São  **imutáveis**, ou seja, não permitem adição, alteração ou remoção de seus elementos. Após ser construída, seus dados são fixos.\n",
    "\n",
    "Isso é muito importante quando desejamos trabalhar com dados que não devem ser alterados ou que sejam utilizados da mesma forma desde sua criação. Para compreendermos o funcionamento das listas de tuplas, vamos trabalhar com uma situação-problema: uma nova demanda da escola para armazenar os IDs e os nomes dos estudantes.\n",
    "\n",
    "## Situação 7\n",
    "\n",
    "Nesta nova demanda, precisamos gerar uma lista de tuplas com os nomes dos estudantes e o código ID de cada um para a plataforma de análise dos dados. A criação do código consiste em concatenar a primeira letra do nome do estudante a um número aleatório de 0 a 999. Os dados recebidos correspondem a uma lista dos nomes de cada estudante.\n",
    "\n",
    "**Vamos resolver esse desafio?**\n",
    "\n",
    "Para facilitar o nosso entendimento do processo vamos trabalhar com uma turma fictícia de 5 estudantes. Vamos rodar o código!"
   ]
  },
  {
   "cell_type": "code",
   "execution_count": null,
   "id": "a910abee",
   "metadata": {},
   "outputs": [],
   "source": [
    "estudantes = [\"João\", \"Maria\", \"José\", \"Cláudia\", \"Ana\"]\n",
    "estudantes"
   ]
  },
  {
   "cell_type": "markdown",
   "id": "c62e92e3",
   "metadata": {},
   "source": [
    "O retorno mostra a nossa lista de 5 estudantes: João; Maria; José; Cláudia; e Ana.\n",
    "\n",
    "Precisamos de uma lista de tuplas em que o primeiro elemento será o nome do estudante e o segundo elemento, o código. Então, temos que pegar a primeira letra de cada um dos nomes e unir a uma geração de código de 0 a 99.\n",
    "\n",
    "O código da geração do ID já foi criado: vamos trazer, da biblioteca  `random`, o  `randint`. Considerando que:\n",
    "\n",
    "-   O  `randint`  é uma função que gera um inteiro partindo de um ponto inicial a um ponto final.\n",
    "    \n",
    "-   O número que queremos será escolhido dentro do  `randint`.\n",
    "    \n",
    "-   Este  `randint`  é de valor fechado, ou seja, o número inicial e final também podem ser escolhidos."
   ]
  },
  {
   "cell_type": "markdown",
   "id": "5445e8c5",
   "metadata": {},
   "source": [
    "Além disso, vamos gerar um código/função, `def gera_codigo()` e usamos o _built-in function_ do `str()`, para transformar a escolha aleatória no nosso estudante."
   ]
  },
  {
   "cell_type": "code",
   "execution_count": null,
   "id": "6cd96acc",
   "metadata": {},
   "outputs": [],
   "source": [
    "from random import randint\n",
    "\n",
    "def gera_codigo():\n",
    "  return str(randint(0,999))"
   ]
  },
  {
   "cell_type": "markdown",
   "id": "b6b0745e",
   "metadata": {},
   "source": [
    "Como vamos concatenar com o(a) estudante, precisamos que o número gerado esteja em formato de  _string_. Não é possível concatenar um número inteiro com uma  _string_.\n",
    "\n",
    "Vamos rodar o código de geração da função. O próximo passo é criar a lista de tuplas. Para isso, temos que criar a tupla em que receberemos os(as) estudantes:  `codigo_estudantes`.\n",
    "\n",
    "Em  `codigo_estudantes`, vamos abrir uma lista vazia.\n",
    "\n",
    "Também trabalharemos com um laço  `for`  para iterar cada estudante e passar para nossa lista de tuplas."
   ]
  },
  {
   "cell_type": "code",
   "execution_count": null,
   "id": "95372a42",
   "metadata": {},
   "outputs": [],
   "source": [
    "codigo_estudantes = []\n",
    "\n",
    "for i in range(len(estudantes))"
   ]
  },
  {
   "cell_type": "markdown",
   "id": "3d24d451",
   "metadata": {},
   "source": [
    "Em seguida, adicionaremos dois pontos. Na outra linha, passaremos ao  `for`  o  `codigo_estudantes.append()`. No  `append()`, entre parênteses, criaremos a tupla.\n",
    "\n",
    "> Lembrando que para criar  **tuplas**, usamos parênteses e para criar listas,  **colchetes**.\n",
    "\n",
    "Para criar a tupla:\n",
    "\n",
    "1. Passar o nome `estudantes` na posição `[i]`, que é a primeira posição."
   ]
  },
  {
   "cell_type": "code",
   "execution_count": null,
   "id": "acafe7aa",
   "metadata": {},
   "outputs": [],
   "source": [
    "# 1. Passar o nome estudantes na posição [i], que é a primeira posição.\n",
    "codigo_estudantes = []\n",
    "\n",
    "for i in range(len(estudantes)): \n",
    "  codigo_estudantes.append((estudantes[i],))"
   ]
  },
  {
   "cell_type": "code",
   "execution_count": null,
   "id": "93272347",
   "metadata": {},
   "outputs": [],
   "source": [
    "# 2. Passar estudantes na mesma posição, seguido do número zero.\n",
    "codigo_estudantes = []\n",
    "\n",
    "for i in range(len(estudantes)): \n",
    "  codigo_estudantes.append((estudantes[i], estudantes[i][0]))"
   ]
  },
  {
   "cell_type": "code",
   "execution_count": null,
   "id": "2153e2a4",
   "metadata": {},
   "outputs": [],
   "source": [
    "# 3. Concatenar a string com o gera_codigo.\n",
    "codigo_estudantes = []\n",
    "\n",
    "for i in range(len(estudantes)): \n",
    "  codigo_estudantes.append((estudantes[i], estudantes[i][0] + gera_codigo()))"
   ]
  },
  {
   "cell_type": "code",
   "execution_count": 5,
   "id": "6c564c51",
   "metadata": {},
   "outputs": [
    {
     "data": {
      "text/plain": [
       "[('João', 'J542'),\n",
       " ('Maria', 'M947'),\n",
       " ('José', 'J253'),\n",
       " ('Cláudia', 'C128'),\n",
       " ('Ana', 'A500')]"
      ]
     },
     "execution_count": 5,
     "metadata": {},
     "output_type": "execute_result"
    }
   ],
   "source": [
    "# 4. Ler o codigo_estudantes e verificar seu resultado.\n",
    "codigo_estudantes = []\n",
    "\n",
    "for i in range(len(estudantes)): \n",
    "  codigo_estudantes.append((estudantes[i], estudantes[i][0] + gera_codigo()))\n",
    "\n",
    "codigo_estudantes"
   ]
  }
 ],
 "metadata": {
  "kernelspec": {
   "display_name": "Python 3",
   "language": "python",
   "name": "python3"
  },
  "language_info": {
   "codemirror_mode": {
    "name": "ipython",
    "version": 3
   },
   "file_extension": ".py",
   "mimetype": "text/x-python",
   "name": "python",
   "nbconvert_exporter": "python",
   "pygments_lexer": "ipython3",
   "version": "3.13.0"
  }
 },
 "nbformat": 4,
 "nbformat_minor": 5
}
